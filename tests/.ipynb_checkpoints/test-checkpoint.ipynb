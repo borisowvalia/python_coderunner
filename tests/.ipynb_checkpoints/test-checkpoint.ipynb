{
 "cells": [
  {
   "cell_type": "code",
   "execution_count": 1,
   "id": "8614be07-b147-424e-aee9-544c7927dbfd",
   "metadata": {},
   "outputs": [],
   "source": [
    "# import os\n",
    "# os.chdir(\"../cupychecker\")"
   ]
  },
  {
   "cell_type": "markdown",
   "id": "ded853f4-00a5-4aea-8574-423076dfcac9",
   "metadata": {},
   "source": [
    "#### Установка библиотеки\n",
    "```bash\n",
    "pip install --index-url https://test.pypi.org/simple cupychecker\n",
    "```\n",
    "\n",
    "#### Запуск remote coderunner в YandexCloud\n",
    "```python\n",
    "os.environ[\"PYRUNNER\"] = \"https://bba47b33i5vu3vho4n34.containers.yandexcloud.net/run\"\n",
    "```"
   ]
  },
  {
   "cell_type": "code",
   "execution_count": null,
   "id": "e40f2304-b6d0-4a34-8951-b5e14f8a6c57",
   "metadata": {},
   "outputs": [],
   "source": [
    "from cupychecker.magic_runner import run"
   ]
  },
  {
   "cell_type": "markdown",
   "id": "5e5eb5bc-87c3-4dc5-a05c-d0277e672c2c",
   "metadata": {},
   "source": [
    "## WEEK 2 FULL"
   ]
  },
  {
   "cell_type": "markdown",
   "id": "3c6c1f45-3ad3-4dad-ba87-023d63c0f62e",
   "metadata": {},
   "source": [
    "### Задание 1\n",
    "\n",
    " 1. Создай словарь, в котором ключами будут будущие названия колонок в таблице, а значениями — списки с&nbsp;соответствующими значениями колонок.\n",
    "\n",
    " 2. Создай датафрейм с помощью словаря из первого пункта.\n",
    "\n",
    " 3. Выведи количество столбцов и строк в датафрейме, а также типы данных колонок.\n",
    "\n",
    " 4. Сделай поле с идентификатором клиента индексом датафрейма."
   ]
  },
  {
   "cell_type": "code",
   "execution_count": 11,
   "id": "111ca2de-cbae-4d0e-9a4d-7f45f0121c1f",
   "metadata": {},
   "outputs": [
    {
     "name": "stdout",
     "output_type": "stream",
     "text": [
      "Namespace(module=2, task=1, plot=None, pyrunner='http://localhost:8000/run')\n"
     ]
    },
    {
     "data": {
      "text/markdown": [
       "```\n",
       "           id_point  amt_pay    date_pay         comment\n",
       "id_client                                               \n",
       "111               1      150  2025-01-06     89169999999\n",
       "112               2      290  2025-02-06  dd15@gmail.com\n",
       "113               3     1000  2025-01-15               -\n",
       "114               4     1200  2025-02-01              --\n",
       "115               3      900  2025-01-13     89179999999\n",
       "\n",
       "```"
      ],
      "text/plain": [
       "<IPython.core.display.Markdown object>"
      ]
     },
     "metadata": {},
     "output_type": "display_data"
    },
    {
     "data": {
      "text/html": [
       "\n",
       "            <div style=\"\n",
       "                background-color:#f8d7da;\n",
       "                color:#721c24;\n",
       "                border:1px solid #f5c6cb;\n",
       "                border-radius:8px;\n",
       "                padding:12px 16px;\n",
       "                font-family:Arial;\n",
       "                font-size:16px;\n",
       "                font-weight:bold;\">\n",
       "                ❌ Ошибка: Функция `head` вызвана с аргументами [5], ожидаются [3]\n",
       "            </div>\n",
       "            "
      ],
      "text/plain": [
       "<IPython.core.display.HTML object>"
      ]
     },
     "execution_count": 11,
     "metadata": {},
     "output_type": "execute_result"
    }
   ],
   "source": [
    "%%run --module 2 --task 1\n",
    "import pandas as pd\n",
    "\n",
    "client_list = [111,112,113,114,115,116,117,118,119,120]\n",
    "points_list = [1,2,3,4,3,3,2,1,2,3]\n",
    "pay_list = [150,290,1000,1200,900,850,300,2000,2100,960]\n",
    "date_pay_list = ['2025-01-06','2025-02-06','2025-01-15','2025-02-01','2025-01-13','2025-01-22','2025-01-06','2025-02-08','2025-02-09','2025-02-03']\n",
    "comment_list = ['89169999999', 'dd15@gmail.com', '-', '--', '89179999999','ss13@gmail.com','sd1@gmail.com','Progr1','Progr2','Progr3']\n",
    "\n",
    "dict_data = {  'id_client':client_list\n",
    "             , 'id_point': points_list\n",
    "             , 'amt_pay': pay_list\n",
    "             , 'date_pay': date_pay_list\n",
    "             , 'comment': comment_list\n",
    "            }\n",
    "\n",
    "df = pd.DataFrame(dict_data)\n",
    "df.set_index('id_client', inplace = True)\n",
    "\n",
    "print(df.head(5))"
   ]
  },
  {
   "cell_type": "markdown",
   "id": "acb516a4-1f11-414c-99c1-a4087a58f023",
   "metadata": {},
   "source": [
    "### Задание 2\n",
    "\n",
    "Выведи все платежи строго больше $1000$ рублей, которые были произведены в торговых точках $1$ и $2$.\n",
    "\n",
    "Отсортируй результат по платежу от большего к меньшему."
   ]
  },
  {
   "cell_type": "code",
   "execution_count": 14,
   "id": "2faa4069-c428-462c-8046-d035f5676fd4",
   "metadata": {},
   "outputs": [
    {
     "name": "stdout",
     "output_type": "stream",
     "text": [
      "Namespace(module=2, task=2, plot=None, pyrunner='http://localhost:8000/run')\n"
     ]
    },
    {
     "data": {
      "text/markdown": [
       "```\n",
       "           id_point  amt_pay    date_pay comment\n",
       "id_client                                       \n",
       "118               1     2000  2025-02-08  Progr1\n",
       "119               2     2100  2025-02-09  Progr2\n",
       "\n",
       "```"
      ],
      "text/plain": [
       "<IPython.core.display.Markdown object>"
      ]
     },
     "metadata": {},
     "output_type": "display_data"
    },
    {
     "data": {
      "text/html": [
       "\n",
       "            <div style=\"\n",
       "                background-color:#f8d7da;\n",
       "                color:#721c24;\n",
       "                border:1px solid #f5c6cb;\n",
       "                border-radius:8px;\n",
       "                padding:12px 16px;\n",
       "                font-family:Arial;\n",
       "                font-size:16px;\n",
       "                font-weight:bold;\">\n",
       "                ❌ Ошибка: Функция `sort_values` вызвана с аргументами ['amt_pay', ('ascending', True)], ожидаются ['amt_pay', ['ascending', False]]\n",
       "            </div>\n",
       "            "
      ],
      "text/plain": [
       "<IPython.core.display.HTML object>"
      ]
     },
     "execution_count": 14,
     "metadata": {},
     "output_type": "execute_result"
    }
   ],
   "source": [
    "%%run --module 2 --task 2\n",
    "import pandas as pd\n",
    "\n",
    "client_list = [111,112,113,114,115,116,117,118,119,120]\n",
    "points_list = [1,2,3,4,3,3,2,1,2,3]\n",
    "pay_list = [150,290,1000,1200,900,850,300,2000,2100,960]\n",
    "date_pay_list = ['2025-01-06','2025-02-06','2025-01-15','2025-02-01','2025-01-13','2025-01-22','2025-01-06','2025-02-08','2025-02-09','2025-02-03']\n",
    "comment_list = ['89169999999', 'dd15@gmail.com', '-', '--', '89179999999','ss13@gmail.com','sd1@gmail.com','Progr1','Progr2','Progr3']\n",
    "dict_data = {  'id_client':client_list\n",
    "           , 'id_point': points_list\n",
    "           , 'amt_pay': pay_list\n",
    "           , 'date_pay': date_pay_list\n",
    "           , 'comment': comment_list\n",
    "          }\n",
    "\n",
    "df = pd.DataFrame(dict_data)\n",
    "df.set_index('id_client', inplace = True)\n",
    "\n",
    "print(df[(df['amt_pay']>1000) & (df['id_point']<=2)].sort_values('amt_pay', ascending = True))"
   ]
  },
  {
   "cell_type": "markdown",
   "id": "4dc837e7-ee39-4f1e-be4f-a82e44109b4b",
   "metadata": {
    "jp-MarkdownHeadingCollapsed": true
   },
   "source": [
    "### Задание 3\n",
    "\n",
    "Выведи самый большой платёж в торговой точке номер 3."
   ]
  },
  {
   "cell_type": "code",
   "execution_count": 16,
   "id": "e79216f3-3b2d-401a-92fb-f102ddfe9258",
   "metadata": {},
   "outputs": [
    {
     "name": "stdout",
     "output_type": "stream",
     "text": [
      "Namespace(module=2, task=3, plot=None, pyrunner='http://localhost:8000/run')\n"
     ]
    },
    {
     "data": {
      "text/markdown": [
       "```\n",
       "id_client\n",
       "114    1200\n",
       "Name: amt_pay, dtype: int64\n",
       "\n",
       "```"
      ],
      "text/plain": [
       "<IPython.core.display.Markdown object>"
      ]
     },
     "metadata": {},
     "output_type": "display_data"
    },
    {
     "data": {
      "text/html": [
       "\n",
       "            <div style=\"\n",
       "                background-color:#f8d7da;\n",
       "                color:#721c24;\n",
       "                border:1px solid #f5c6cb;\n",
       "                border-radius:8px;\n",
       "                padding:12px 16px;\n",
       "                font-family:Arial;\n",
       "                font-size:16px;\n",
       "                font-weight:bold;\">\n",
       "                ❌ Ошибка: Ожидается df['id_point'] == 3\n",
       "\n",
       "            </div>\n",
       "            "
      ],
      "text/plain": [
       "<IPython.core.display.HTML object>"
      ]
     },
     "execution_count": 16,
     "metadata": {},
     "output_type": "execute_result"
    }
   ],
   "source": [
    "%%run --module 2 --task 3\n",
    "import pandas as pd\n",
    "\n",
    "client_list = [111,112,113,114,115,116,117,118,119,120]\n",
    "points_list = [1,2,3,4,3,3,2,1,2,3]\n",
    "pay_list = [150,290,1000,1200,900,850,300,2000,2100,960]\n",
    "date_pay_list = ['2025-01-06','2025-02-06','2025-01-15','2025-02-01','2025-01-13','2025-01-22','2025-01-06','2025-02-08','2025-02-09','2025-02-03']\n",
    "comment_list = ['89169999999', 'dd15@gmail.com', '-', '--', '89179999999','ss13@gmail.com','sd1@gmail.com','Progr1','Progr2','Progr3']\n",
    "dict_data = {  'id_client':client_list\n",
    "           , 'id_point': points_list\n",
    "           , 'amt_pay': pay_list\n",
    "           , 'date_pay': date_pay_list\n",
    "           , 'comment': comment_list\n",
    "          }\n",
    "\n",
    "df = pd.DataFrame(dict_data)\n",
    "df.set_index('id_client', inplace = True)\n",
    "\n",
    "print(df[df['id_point']==4].sort_values('amt_pay', ascending = False).head(1)['amt_pay'])"
   ]
  },
  {
   "cell_type": "markdown",
   "id": "cb88c71b-c251-4f8e-a5b4-f40992af4062",
   "metadata": {
    "jp-MarkdownHeadingCollapsed": true
   },
   "source": [
    "### Задание 4\n",
    "\n",
    " 1. С помощью функции *loc* выведи платежи и комментарии, соответствующие идентификаторам клиента $112$ и $113$.\n",
    "\n",
    " 2. Сделай то же самое с помощью функции *iloc*.\n",
    "\n",
    " 3. Убедись, что вывод получается одинаковый."
   ]
  },
  {
   "cell_type": "code",
   "execution_count": 17,
   "id": "b166b9ff-f9a0-4600-aba1-a87dc4e60d74",
   "metadata": {},
   "outputs": [
    {
     "name": "stdout",
     "output_type": "stream",
     "text": [
      "Namespace(module=2, task=4, plot=None, pyrunner='http://localhost:8000/run')\n"
     ]
    },
    {
     "data": {
      "text/markdown": [
       "```\n",
       "           id_point  amt_pay    date_pay         comment\n",
       "id_client                                               \n",
       "112               2      290  2025-02-06  dd15@gmail.com\n",
       "113               3     1000  2025-01-15               -\n",
       "           id_point  amt_pay    date_pay         comment\n",
       "id_client                                               \n",
       "112               2      290  2025-02-06  dd15@gmail.com\n",
       "113               3     1000  2025-01-15               -\n",
       "\n",
       "```"
      ],
      "text/plain": [
       "<IPython.core.display.Markdown object>"
      ]
     },
     "metadata": {},
     "output_type": "display_data"
    },
    {
     "data": {
      "text/html": [
       "\n",
       "        <div style=\"\n",
       "            background-color:#d4edda;\n",
       "            color:#155724;\n",
       "            border:1px solid #c3e6cb;\n",
       "            border-radius:8px;\n",
       "            padding:12px 16px;\n",
       "            font-family:Arial;\n",
       "            font-size:16px;\n",
       "            font-weight:bold;\">\n",
       "            ✅ Проверка пройдена успешно!\n",
       "        </div>\n",
       "        "
      ],
      "text/plain": [
       "<IPython.core.display.HTML object>"
      ]
     },
     "execution_count": 17,
     "metadata": {},
     "output_type": "execute_result"
    }
   ],
   "source": [
    "%%run --module 2 --task 4\n",
    "import pandas as pd\n",
    "\n",
    "client_list = [111,112,113,114,115,116,117,118,119,120]\n",
    "points_list = [1,2,3,4,3,3,2,1,2,3]\n",
    "pay_list = [150,290,1000,1200,900,850,300,2000,2100,960]\n",
    "date_pay_list = ['2025-01-06','2025-02-06','2025-01-15','2025-02-01','2025-01-13','2025-01-22','2025-01-06','2025-02-08','2025-02-09','2025-02-03']\n",
    "comment_list = ['89169999999', 'dd15@gmail.com', '-', '--', '89179999999','ss13@gmail.com','sd1@gmail.com','Progr1','Progr2','Progr3']\n",
    "dict_data = {  'id_client':client_list\n",
    "           , 'id_point': points_list\n",
    "           , 'amt_pay': pay_list\n",
    "           , 'date_pay': date_pay_list\n",
    "           , 'comment': comment_list\n",
    "          }\n",
    "\n",
    "df = pd.DataFrame(dict_data)\n",
    "df.set_index('id_client', inplace = True)\n",
    "\n",
    "print(df.loc[[112,113]])\n",
    "print(df.iloc[[1, 2]])"
   ]
  },
  {
   "cell_type": "markdown",
   "id": "40cac1c5-c095-4de8-87ab-00a94d713161",
   "metadata": {
    "jp-MarkdownHeadingCollapsed": true
   },
   "source": [
    "### Задание 5\n",
    "\n",
    " 1. Приведи столбец с датой платежа к формату даты.\n",
    "\n",
    " 2. Создай в датафрейме новый столбец с датой платежа, приведённой к началу месяца.\n",
    "\n",
    " 3. Создай в датафрейме новый столбец с номерами месяца."
   ]
  },
  {
   "cell_type": "code",
   "execution_count": 21,
   "id": "6f241c71-1d6d-4b86-bc51-f2bfcb88d395",
   "metadata": {},
   "outputs": [
    {
     "name": "stdout",
     "output_type": "stream",
     "text": [
      "Namespace(module=2, task=5, plot=None, pyrunner='http://localhost:8000/run')\n"
     ]
    },
    {
     "data": {
      "text/markdown": [
       "```\n",
       "           id_point  amt_pay   date_pay         comment  month_int  month_dat\n",
       "id_client                                                                    \n",
       "111               1      150 2025-01-06     89169999999          1 2025-01-06\n",
       "112               2      290 2025-02-06  dd15@gmail.com          2 2025-02-03\n",
       "113               3     1000 2025-01-15               -          1 2025-01-13\n",
       "\n",
       "```"
      ],
      "text/plain": [
       "<IPython.core.display.Markdown object>"
      ]
     },
     "metadata": {},
     "output_type": "display_data"
    },
    {
     "data": {
      "text/html": [
       "\n",
       "            <div style=\"\n",
       "                background-color:#f8d7da;\n",
       "                color:#721c24;\n",
       "                border:1px solid #f5c6cb;\n",
       "                border-radius:8px;\n",
       "                padding:12px 16px;\n",
       "                font-family:Arial;\n",
       "                font-size:16px;\n",
       "                font-weight:bold;\">\n",
       "                ❌ Ошибка: Функция `to_period` вызвана с аргументами ['W'], ожидаются ['M']\n",
       "            </div>\n",
       "            "
      ],
      "text/plain": [
       "<IPython.core.display.HTML object>"
      ]
     },
     "execution_count": 21,
     "metadata": {},
     "output_type": "execute_result"
    }
   ],
   "source": [
    "%%run --module 2 --task 5\n",
    "\n",
    "import pandas as pd\n",
    "\n",
    "client_list = [111,112,113,114,115,116,117,118,119,120]\n",
    "points_list = [1,2,3,4,3,3,2,1,2,3]\n",
    "pay_list = [150,290,1000,1200,900,850,300,2000,2100,960]\n",
    "date_pay_list = ['2025-01-06','2025-02-06','2025-01-15','2025-02-01','2025-01-13','2025-01-22','2025-01-06','2025-02-08','2025-02-09','2025-02-03']\n",
    "comment_list = ['89169999999', 'dd15@gmail.com', '-', '--', '89179999999','ss13@gmail.com','sd1@gmail.com','Progr1','Progr2','Progr3']\n",
    "dict_data = {  'id_client':client_list\n",
    "          , 'id_point': points_list\n",
    "          , 'amt_pay': pay_list\n",
    "          , 'date_pay': date_pay_list\n",
    "          , 'comment': comment_list\n",
    "          }\n",
    "df = pd.DataFrame(dict_data)\n",
    "df.set_index('id_client', inplace = True)\n",
    "\n",
    "df['date_pay'] = pd.to_datetime(df['date_pay'])\n",
    "df['month_int'] = df['date_pay'].dt.month\n",
    "df['month_dat'] = df['date_pay'].dt.to_period(\"W\").dt.to_timestamp()\n",
    "\n",
    "print(df.head(3))"
   ]
  },
  {
   "cell_type": "markdown",
   "id": "0a5049a8-a1f3-4f1e-b619-93b4c6c65bb9",
   "metadata": {
    "jp-MarkdownHeadingCollapsed": true
   },
   "source": [
    "### Задание 6\n",
    "\n",
    " 1. Выведи строки, в которых комментарий представляет собой адрес электронной почты (проверка по содержанию символа собаки)."
   ]
  },
  {
   "cell_type": "code",
   "execution_count": 22,
   "id": "c7ca50b0-e4ec-4a62-b71e-09564b9caea4",
   "metadata": {},
   "outputs": [
    {
     "name": "stdout",
     "output_type": "stream",
     "text": [
      "Namespace(module=2, task=6, plot=None, pyrunner='http://localhost:8000/run')\n"
     ]
    },
    {
     "data": {
      "text/markdown": [
       "```\n",
       "           id_point  amt_pay   date_pay         comment  month_int  month_dat\n",
       "id_client                                                                    \n",
       "112               2      290 2025-02-06  dd15@gmail.com 2025-02-06 2025-02-01\n",
       "116               3      850 2025-01-22  ss13@gmail.com 2025-01-22 2025-01-01\n",
       "117               2      300 2025-01-06   sd1@gmail.com 2025-01-06 2025-01-01\n",
       "\n",
       "```"
      ],
      "text/plain": [
       "<IPython.core.display.Markdown object>"
      ]
     },
     "metadata": {},
     "output_type": "display_data"
    },
    {
     "data": {
      "text/html": [
       "\n",
       "        <div style=\"\n",
       "            background-color:#d4edda;\n",
       "            color:#155724;\n",
       "            border:1px solid #c3e6cb;\n",
       "            border-radius:8px;\n",
       "            padding:12px 16px;\n",
       "            font-family:Arial;\n",
       "            font-size:16px;\n",
       "            font-weight:bold;\">\n",
       "            ✅ Проверка пройдена успешно!\n",
       "        </div>\n",
       "        "
      ],
      "text/plain": [
       "<IPython.core.display.HTML object>"
      ]
     },
     "execution_count": 22,
     "metadata": {},
     "output_type": "execute_result"
    }
   ],
   "source": [
    "%%run --module 2 --task 6\n",
    "\n",
    "import pandas as pd\n",
    "\n",
    "client_list = [111,112,113,114,115,116,117,118,119,120]\n",
    "points_list = [1,2,3,4,3,3,2,1,2,3]\n",
    "pay_list = [150,290,1000,1200,900,850,300,2000,2100,960]\n",
    "date_pay_list = ['2025-01-06','2025-02-06','2025-01-15','2025-02-01','2025-01-13','2025-01-22','2025-01-06','2025-02-08','2025-02-09','2025-02-03']\n",
    "comment_list = ['89169999999', 'dd15@gmail.com', '-', '--', '89179999999','ss13@gmail.com','sd1@gmail.com','Progr1','Progr2','Progr3']\n",
    "dict_data = {  'id_client':client_list\n",
    "          , 'id_point': points_list\n",
    "          , 'amt_pay': pay_list\n",
    "          , 'date_pay': date_pay_list\n",
    "          , 'comment': comment_list\n",
    "          }\n",
    "\n",
    "df = pd.DataFrame(dict_data)\n",
    "df.set_index('id_client', inplace = True)\n",
    "\n",
    "df['date_pay'] = pd.to_datetime(df['date_pay'])\n",
    "df['month_int'] = df['date_pay']\n",
    "df['month_dat'] = df['date_pay'].dt.to_period('M').dt.to_timestamp()\n",
    "\n",
    "print(df[df['comment'].str.contains('@')])"
   ]
  },
  {
   "cell_type": "markdown",
   "id": "98d8dbdf-be6d-4e6f-ae26-8256a7df503f",
   "metadata": {},
   "source": [
    "## Графики"
   ]
  },
  {
   "cell_type": "markdown",
   "id": "e84c29de-2ef2-4a94-8a7c-2bb6da388831",
   "metadata": {},
   "source": [
    "### Задание 1 SEABORN\n",
    "\n",
    "Построй распределение счетов (total_bill) с помощью гистограммы Seaborn."
   ]
  },
  {
   "cell_type": "code",
   "execution_count": 25,
   "id": "371073bf-4a9a-4739-8bc0-eeb0757e3a5b",
   "metadata": {},
   "outputs": [
    {
     "name": "stdout",
     "output_type": "stream",
     "text": [
      "Namespace(module=3, task=1, plot=True, pyrunner='http://localhost:8000/run')\n"
     ]
    },
    {
     "data": {
      "image/png": "[encoded data removed]",
      "text/plain": [
       "<Figure size 640x480 with 1 Axes>"
      ]
     },
     "metadata": {},
     "output_type": "display_data"
    },
    {
     "data": {
      "text/html": [
       "\n",
       "            <div style=\"\n",
       "                background-color:#f8d7da;\n",
       "                color:#721c24;\n",
       "                border:1px solid #f5c6cb;\n",
       "                border-radius:8px;\n",
       "                padding:12px 16px;\n",
       "                font-family:Arial;\n",
       "                font-size:16px;\n",
       "                font-weight:bold;\">\n",
       "                ❌ Ошибка: Подпишите ось Y\n",
       "            </div>\n",
       "            "
      ],
      "text/plain": [
       "<IPython.core.display.HTML object>"
      ]
     },
     "execution_count": 25,
     "metadata": {},
     "output_type": "execute_result"
    }
   ],
   "source": [
    "%%run --module 3 --task 1 --plot\n",
    "\n",
    "import seaborn as sns\n",
    "import matplotlib.pyplot as plt\n",
    "import pandas as pd\n",
    "import numpy as np\n",
    "\n",
    "url = \"https://raw.githubusercontent.com/mwaskom/seaborn-data/master/tips.csv\"\n",
    "df = pd.read_csv(url)\n",
    "\n",
    "sns.histplot(df['total_bill'], bins=20, kde=True)\n",
    "plt.title(\"Распределение счетов\")\n",
    "plt.xlabel(\"Сумма счета\")\n",
    "# plt.ylabel(\"Частота\")\n",
    "plt.show()"
   ]
  },
  {
   "cell_type": "markdown",
   "id": "8e602c41-4e8f-414c-8d8d-b1d35d577b31",
   "metadata": {},
   "source": [
    "### Задание 2 PLOTLY\n",
    "\n",
    "Построй с помощью Plotly scatter plot зависимости total_bill от tip, раскрасив точки по полу."
   ]
  },
  {
   "cell_type": "code",
   "execution_count": 29,
   "id": "28fa858f-2eb8-4204-82aa-c4b061df7a70",
   "metadata": {},
   "outputs": [
    {
     "name": "stdout",
     "output_type": "stream",
     "text": [
      "Namespace(module=3, task=2, plot=True, pyrunner='http://localhost:8000/run')\n"
     ]
    },
    {
     "data": {
      "application/vnd.plotly.v1+json": {
       "config": {
        "plotlyServerURL": "https://plot.ly"
       },
       "data": [
        {
         "hovertemplate": "sex=Female<br>tip=%{x}<br>total_bill=%{y}<extra></extra>",
         "legendgroup": "Female",
         "marker": {
          "color": "#636efa",
          "symbol": "circle"
         },
         "mode": "markers",
         "name": "Female",
         "orientation": "v",
         "showlegend": true,
         "type": "scatter",
         "x": {
          "bdata": "KVyPwvUo8D/hehSuR+EMQAAAAAAAABRAKVyPwvUoCEC4HoXrUbj6PwAAAAAAAAxAAAAAAAAABkDXo3A9CtcBQAAAAAAAAAhAAAAAAAAACECamZmZmZkDQI/C9ShcjwhAzczMzMzMBEDNzMzMzMwUQAAAAAAAAPg/w/UoXI/CA0AAAAAAAADwPwAAAAAAAAhAH4XrUbgeCUAAAAAAAAAUQJqZmZmZmQFASOF6FK5H/T+uR+F6FK4UQAAAAAAAAPA/MzMzMzMzEUAAAAAAAAAKQAAAAAAAAARAAAAAAAAACEAAAAAAAAAEQNejcD0K1wtAUrgehetREEAAAAAAAAAQQAAAAAAAAPA/AAAAAAAAEEAAAAAAAAAMQAAAAAAAAPg/zczMzMzM/D9cj8L1KFwHQOF6FK5H4fo/KVyPwvUoBEDNzMzMzMwQQAAAAAAAAABAAAAAAAAAAECkcD0K16MGQAAAAAAAAPg/AAAAAAAAAEAAAAAAAAAKQAAAAAAAAPQ/AAAAAAAAAEAAAAAAAAAAQAAAAAAAAAZAAAAAAAAADEAAAAAAAAAUQGZmZmZmZgJAAAAAAAAA+D/D9Shcj8L1PxSuR+F6FPo/j8L1KFyPFEAAAAAAAAAOQOF6FK5H4QRAAAAAAAAAAEAAAAAAAAAIQMP1KFyPwvk/AAAAAAAAAEAAAAAAAAAQQAAAAAAAAAxAAAAAAAAADEDD9Shcj8IQQAAAAAAAABRAAAAAAAAAAEAUrkfhehQAQAAAAAAAAABAAAAAAAAABEDXo3A9CtcJQNejcD0K1wFAAAAAAAAABEAAAAAAAAAaQJqZmZmZmfE/uB6F61G4CEDXo3A9CtcLQAAAAAAAAAhAAAAAAAAABEAAAAAAAAAAQArXo3A9CgdArkfhehSuEkAAAAAAAAAAQAAAAAAAAAhA",
          "dtype": "f8"
         },
         "xaxis": "x",
         "y": {
          "bdata": "PQrXo3D9MEDXo3A9Cpc4QOF6FK5HoUFAKVyPwvWoLUApXI/C9agkQLgehetR+DBACtejcD1KNEAK16NwPYovQGZmZmZmpjNAH4XrUbgeLkBxPQrXo7A0QK5H4XoU7jBAFK5H4XqUJEBI4XoUrmdBQClcj8L1aDpAMzMzMzNzMECPwvUoXI8IQFK4HoXrETFAXI/C9SjcOkBI4XoUrkc5QPYoXI/CdS1ApHA9CtcjJEAK16NwPWpBQAAAAAAAABdAUrgehetRMEAAAAAAAMA2QDMzMzMzsyZAw/UoXI/CLkBmZmZmZiZGQOxRuB6FazZA7FG4HoXrNEAfhetRuJ4sQAAAAAAAAB1A9ihcj8K1OUCPwvUoXE8xQM3MzMzMTCVAXI/C9SjcKEAUrkfhehQ4QNejcD0K1ypA9ihcj8L1KEDNzMzMzMw9QArXo3A9Ci1Aw/UoXI/CJkCF61G4HkU0QNejcD0KVyZAhetRuB6FKEDD9Shcj0IyQIXrUbgeBSFAKVyPwvWoJEDNzMzMzEwsQFK4HoXrUSpAuB6F61F4MUDNzMzMzAw7QK5H4XoUbjBAMzMzMzOzIECkcD0K16MyQD0K16NwvSdAmpmZmZnZPUAAAAAAAAA5QEjhehSuxypA9ihcj8I1MEDD9Shcj4IxQK5H4XoULiVAw/UoXI9CJUAzMzMzMzMjQGZmZmZm5jRAZmZmZmYmMkCPwvUoXM8zQK5H4XoUjkVAAAAAAAAAKkB7FK5H4XopQAAAAAAAACpAZmZmZmZmMEC4HoXrUXgwQIXrUbgehSlACtejcD2KKkDsUbgehSs8QM3MzMzMzClApHA9CtcjPkDXo3A9CtcqQPYoXI/C9S9AhetRuB5FMECuR+F6FC4kQB+F61G4HjZACtejcD3qQUCuR+F6FC47QEjhehSuxzJA",
          "dtype": "f8"
         },
         "yaxis": "y"
        },
        {
         "hovertemplate": "sex=Male<br>tip=%{x}<br>total_bill=%{y}<extra></extra>",
         "legendgroup": "Male",
         "marker": {
          "color": "#EF553B",
          "symbol": "circle"
         },
         "mode": "markers",
         "name": "Male",
         "orientation": "v",
         "showlegend": true,
         "type": "scatter",
         "x": {
          "bdata": "j8L1KFyP+j8AAAAAAAAMQHsUrkfhegpA16NwPQrXEkAAAAAAAAAAQPYoXI/C9QhAXI/C9Shc/z/Xo3A9CtcJQFyPwvUoXPs/H4XrUbge+T8AAAAAAAAIQFyPwvUoXA9ArkfhehSuDUDNzMzMzMwKQFK4HoXrURBAUrgehetRHkBxPQrXo3AJQLgehetRuAJAAAAAAAAAAEAAAAAAAAAAQDMzMzMzMxFAMzMzMzMz9z8AAAAAAAAEQClcj8L1KApAzczMzMzMDEAAAAAAAAAAQHsUrkfhegJAAAAAAAAAFEDsUbgehesBQFK4HoXrUQRAexSuR+F6CEAfhetRuB71P2ZmZmZmZhZAAAAAAAAACEAAAAAAAAAUQAAAAAAAABhAZmZmZmZmAEAAAAAAAAAIQAAAAAAAAARA9ihcj8L1+D9cj8L1KFwRQBSuR+F6FAxAAAAAAAAACEApXI/C9Sj8P+xRuB6F6xpArkfhehSuCUAAAAAAAAAAQK5H4XoUrv8/FK5H4XoUDkAfhetRuB4FQDMzMzMzMwlAFK5H4XoUAEC4HoXrUbgAQIXrUbgehf8/AAAAAAAA9D+kcD0K16MIQAAAAAAAABBAAAAAAAAACECuR+F6FK4FQAAAAAAAAAhAMzMzMzMzC0AAAAAAAAAUQD0K16NwPQBAAAAAAAAAAEAAAAAAAAAQQGZmZmZmZhdAAAAAAAAACEAAAAAAAAAIQAAAAAAAAAxA7FG4HoXrEkAAAAAAAAAQQAAAAAAAAPg/AAAAAAAACEAAAAAAAAD4Pz0K16NwPfo/PQrXo3A9EEApXI/C9SgRQBSuR+F6FA5AAAAAAAAACEAAAAAAAAAQQGZmZmZmZgRASOF6FK5HFEB7FK5H4XoCQAAAAAAAAARAAAAAAAAAAECuR+F6FK73P3E9CtejcAFAAAAAAAAA+D8AAAAAAAAAQM3MzMzMzBpAAAAAAAAAFECuR+F6FK77PwAAAAAAAABAAAAAAAAABEAAAAAAAAAAQOxRuB6F6wVAAAAAAAAAAEAAAAAAAAAAQAAAAAAAABRAAAAAAAAAAEAAAAAAAAAMQAAAAAAAAARAAAAAAAAAAEDXo3A9CtcLQOxRuB6F6wFAAAAAAAAAEkAAAAAAAAAkQEjhehSuRwlAmpmZmZmZFEBxPQrXo3AJQAAAAAAAABBA4XoUrkfhCEAAAAAAAAAAQAAAAAAAAABAZmZmZmZmDEBxPQrXo3ANQJqZmZmZmRZAAAAAAAAADEAAAAAAAAAaQAAAAAAAAAhAAAAAAAAAFEAAAAAAAAAAQAAAAAAAABBAAAAAAAAA+D97FK5H4XoEQClcj8L1KABAAAAAAAAAEEAK16NwPQr3PwAAAAAAAABAAAAAAAAAAEAAAAAAAAAQQAAAAAAAABBASOF6FK5HC0AAAAAAAAAIQD0K16NwPQBAAAAAAAAAAECkcD0K16MUQAAAAAAAACJAAAAAAAAACEAAAAAAAAD4PwrXo3A9Cvc/mpmZmZmZAUC4HoXrUbj+P0jhehSuR/k/AAAAAAAACEDD9Shcj8IFQAAAAAAAAABAAAAAAAAACEAfhetRuB4LQIXrUbgehfc/AAAAAAAACEAAAAAAAAD0PwAAAAAAAPA/uB6F61G48j+uR+F6FK4XQAAAAAAAAABAAAAAAAAA/D8=",
          "dtype": "f8"
         },
         "xaxis": "x",
         "y": {
          "bdata": "rkfhehSuJEDD9ShcjwI1QK5H4XoUrjdACtejcD1KOUAK16NwPYohQOF6FK5H4TpAFK5H4XoULkCPwvUoXI8tQArXo3A9iiRA16NwPQrXLkCuR+F6FG4yQBSuR+F6lDVACtejcD1KMEBmZmZmZqY0QOxRuB6F6zFA9ihcj8K1Q0BSuB6F69EzQI/C9ShczzFAPQrXo3C9KkDhehSuR2EpQDMzMzMzszVAmpmZmZkZI0CamZmZmVkyQEjhehSuxzFAj8L1KFwPOECPwvUoXE8wQHE9CtejsDJAhetRuB5FP0AK16NwPQowQPYoXI/CdTFA4XoUrkfhK0Bcj8L1KFwjQGZmZmZmZj5ACtejcD1KMkB7FK5H4To2QDMzMzMzM0BAzczMzMyMPEAK16NwPQoyQBSuR+F6FClA4XoUrkfhI0CPwvUoXI85QD0K16NwfTNA4XoUrkcBQ0B7FK5H4XomQMP1KFyPIkhACtejcD1KNEAfhetRuJ4rQArXo3A9CiZACtejcD1KMkDXo3A9CpcxQBSuR+F6FDRAexSuR+E6NECF61G4HgUuQArXo3A9CihAhetRuB4FJUDsUbgehesxQDMzMzMzMztAw/UoXI/CNkAK16NwPUoxQHE9CtejcDNAKVyPwvWoMEDXo3A9CldAQPYoXI/C9S9Aj8L1KFwPKkBI4XoUrkcyQPYoXI/CtThAKVyPwvUoNUC4HoXrUfg8QD0K16NwfTZA9ihcj8IVREBI4XoUrkc7QI/C9ShcDyhAw/UoXI8CNUDsUbgehesoQLgehetRuC5APQrXo3B9NED2KFyPwjU5QD0K16NwPTJAAAAAAAAALEApXI/C9QhDQDMzMzMz8zdArkfhehTuPUDhehSuR2EnQIXrUbgehSxAZmZmZmbmL0AK16NwPQohQFK4HoXr0TZAFK5H4XoUM0AAAAAAAAAwQGZmZmZmJkFAuB6F61GYRECPwvUoXI8jQArXo3A9Ch5ApHA9CtcjLEDD9Shcj0IqQMP1KFyPQjFAzczMzMyMOECF61G4HsUzQPYoXI/CFUhAPQrXo3B9MEAAAAAAAIA1QFK4HoXrUSlAH4XrUbieK0CF61G4HoU4QMP1KFyPwjRA9ihcj8K1P0BI4XoUrmdJQB+F61G4ni9AAAAAAAAAHUCamZmZmdk/QFK4HoXr0TBAMzMzMzNzQECkcD0K1+MxQPYoXI/C9SxAcT0K16NQQUAzMzMzM1NBQBSuR+F6VDdAzczMzMysRkDsUbgehSs3QGZmZmZmRkRAcT0K16OwNED2KFyPwnU+QJqZmZmZGTdA4XoUrkdhL0BxPQrXo3A8QPYoXI/C9S5AFK5H4XqUMEA9CtejcD0eQK5H4XoUriRAhetRuB4FK0D2KFyPwrUyQEjhehSuhzRA16NwPQqXOkA9CtejcF1DQIXrUbgeRThAj8L1KFwPPkCkcD0K1+M5QArXo3A9KkhAZmZmZmYmPECuR+F6FC4nQPYoXI/C9R5AUrgehetRKEApXI/C9SghQNejcD0K1ypAMzMzMzNzNECPwvUoXI8qQMP1KFyPAjhA4XoUrkdhL0C4HoXrUTgnQArXo3A9iiVAj8L1KFwPL0CkcD0K1yMkQDMzMzMzMylACtejcD1qQEBI4XoUrgc9QOxRuB6FqzZAUrgehevRMUA=",
          "dtype": "f8"
         },
         "yaxis": "y"
        }
       ],
       "layout": {
        "legend": {
         "title": {
          "text": "sex"
         },
         "tracegroupgap": 0
        },
        "template": {
         "data": {
          "bar": [
           {
            "error_x": {
             "color": "#2a3f5f"
            },
            "error_y": {
             "color": "#2a3f5f"
            },
            "marker": {
             "line": {
              "color": "#E5ECF6",
              "width": 0.5
             },
             "pattern": {
              "fillmode": "overlay",
              "size": 10,
              "solidity": 0.2
             }
            },
            "type": "bar"
           }
          ],
          "barpolar": [
           {
            "marker": {
             "line": {
              "color": "#E5ECF6",
              "width": 0.5
             },
             "pattern": {
              "fillmode": "overlay",
              "size": 10,
              "solidity": 0.2
             }
            },
            "type": "barpolar"
           }
          ],
          "carpet": [
           {
            "aaxis": {
             "endlinecolor": "#2a3f5f",
             "gridcolor": "white",
             "linecolor": "white",
             "minorgridcolor": "white",
             "startlinecolor": "#2a3f5f"
            },
            "baxis": {
             "endlinecolor": "#2a3f5f",
             "gridcolor": "white",
             "linecolor": "white",
             "minorgridcolor": "white",
             "startlinecolor": "#2a3f5f"
            },
            "type": "carpet"
           }
          ],
          "choropleth": [
           {
            "colorbar": {
             "outlinewidth": 0,
             "ticks": ""
            },
            "type": "choropleth"
           }
          ],
          "contour": [
           {
            "colorbar": {
             "outlinewidth": 0,
             "ticks": ""
            },
            "colorscale": [
             [
              0,
              "#0d0887"
             ],
             [
              0.1111111111111111,
              "#46039f"
             ],
             [
              0.2222222222222222,
              "#7201a8"
             ],
             [
              0.3333333333333333,
              "#9c179e"
             ],
             [
              0.4444444444444444,
              "#bd3786"
             ],
             [
              0.5555555555555556,
              "#d8576b"
             ],
             [
              0.6666666666666666,
              "#ed7953"
             ],
             [
              0.7777777777777778,
              "#fb9f3a"
             ],
             [
              0.8888888888888888,
              "#fdca26"
             ],
             [
              1,
              "#f0f921"
             ]
            ],
            "type": "contour"
           }
          ],
          "contourcarpet": [
           {
            "colorbar": {
             "outlinewidth": 0,
             "ticks": ""
            },
            "type": "contourcarpet"
           }
          ],
          "heatmap": [
           {
            "colorbar": {
             "outlinewidth": 0,
             "ticks": ""
            },
            "colorscale": [
             [
              0,
              "#0d0887"
             ],
             [
              0.1111111111111111,
              "#46039f"
             ],
             [
              0.2222222222222222,
              "#7201a8"
             ],
             [
              0.3333333333333333,
              "#9c179e"
             ],
             [
              0.4444444444444444,
              "#bd3786"
             ],
             [
              0.5555555555555556,
              "#d8576b"
             ],
             [
              0.6666666666666666,
              "#ed7953"
             ],
             [
              0.7777777777777778,
              "#fb9f3a"
             ],
             [
              0.8888888888888888,
              "#fdca26"
             ],
             [
              1,
              "#f0f921"
             ]
            ],
            "type": "heatmap"
           }
          ],
          "histogram": [
           {
            "marker": {
             "pattern": {
              "fillmode": "overlay",
              "size": 10,
              "solidity": 0.2
             }
            },
            "type": "histogram"
           }
          ],
          "histogram2d": [
           {
            "colorbar": {
             "outlinewidth": 0,
             "ticks": ""
            },
            "colorscale": [
             [
              0,
              "#0d0887"
             ],
             [
              0.1111111111111111,
              "#46039f"
             ],
             [
              0.2222222222222222,
              "#7201a8"
             ],
             [
              0.3333333333333333,
              "#9c179e"
             ],
             [
              0.4444444444444444,
              "#bd3786"
             ],
             [
              0.5555555555555556,
              "#d8576b"
             ],
             [
              0.6666666666666666,
              "#ed7953"
             ],
             [
              0.7777777777777778,
              "#fb9f3a"
             ],
             [
              0.8888888888888888,
              "#fdca26"
             ],
             [
              1,
              "#f0f921"
             ]
            ],
            "type": "histogram2d"
           }
          ],
          "histogram2dcontour": [
           {
            "colorbar": {
             "outlinewidth": 0,
             "ticks": ""
            },
            "colorscale": [
             [
              0,
              "#0d0887"
             ],
             [
              0.1111111111111111,
              "#46039f"
             ],
             [
              0.2222222222222222,
              "#7201a8"
             ],
             [
              0.3333333333333333,
              "#9c179e"
             ],
             [
              0.4444444444444444,
              "#bd3786"
             ],
             [
              0.5555555555555556,
              "#d8576b"
             ],
             [
              0.6666666666666666,
              "#ed7953"
             ],
             [
              0.7777777777777778,
              "#fb9f3a"
             ],
             [
              0.8888888888888888,
              "#fdca26"
             ],
             [
              1,
              "#f0f921"
             ]
            ],
            "type": "histogram2dcontour"
           }
          ],
          "mesh3d": [
           {
            "colorbar": {
             "outlinewidth": 0,
             "ticks": ""
            },
            "type": "mesh3d"
           }
          ],
          "parcoords": [
           {
            "line": {
             "colorbar": {
              "outlinewidth": 0,
              "ticks": ""
             }
            },
            "type": "parcoords"
           }
          ],
          "pie": [
           {
            "automargin": true,
            "type": "pie"
           }
          ],
          "scatter": [
           {
            "fillpattern": {
             "fillmode": "overlay",
             "size": 10,
             "solidity": 0.2
            },
            "type": "scatter"
           }
          ],
          "scatter3d": [
           {
            "line": {
             "colorbar": {
              "outlinewidth": 0,
              "ticks": ""
             }
            },
            "marker": {
             "colorbar": {
              "outlinewidth": 0,
              "ticks": ""
             }
            },
            "type": "scatter3d"
           }
          ],
          "scattercarpet": [
           {
            "marker": {
             "colorbar": {
              "outlinewidth": 0,
              "ticks": ""
             }
            },
            "type": "scattercarpet"
           }
          ],
          "scattergeo": [
           {
            "marker": {
             "colorbar": {
              "outlinewidth": 0,
              "ticks": ""
             }
            },
            "type": "scattergeo"
           }
          ],
          "scattergl": [
           {
            "marker": {
             "colorbar": {
              "outlinewidth": 0,
              "ticks": ""
             }
            },
            "type": "scattergl"
           }
          ],
          "scattermap": [
           {
            "marker": {
             "colorbar": {
              "outlinewidth": 0,
              "ticks": ""
             }
            },
            "type": "scattermap"
           }
          ],
          "scattermapbox": [
           {
            "marker": {
             "colorbar": {
              "outlinewidth": 0,
              "ticks": ""
             }
            },
            "type": "scattermapbox"
           }
          ],
          "scatterpolar": [
           {
            "marker": {
             "colorbar": {
              "outlinewidth": 0,
              "ticks": ""
             }
            },
            "type": "scatterpolar"
           }
          ],
          "scatterpolargl": [
           {
            "marker": {
             "colorbar": {
              "outlinewidth": 0,
              "ticks": ""
             }
            },
            "type": "scatterpolargl"
           }
          ],
          "scatterternary": [
           {
            "marker": {
             "colorbar": {
              "outlinewidth": 0,
              "ticks": ""
             }
            },
            "type": "scatterternary"
           }
          ],
          "surface": [
           {
            "colorbar": {
             "outlinewidth": 0,
             "ticks": ""
            },
            "colorscale": [
             [
              0,
              "#0d0887"
             ],
             [
              0.1111111111111111,
              "#46039f"
             ],
             [
              0.2222222222222222,
              "#7201a8"
             ],
             [
              0.3333333333333333,
              "#9c179e"
             ],
             [
              0.4444444444444444,
              "#bd3786"
             ],
             [
              0.5555555555555556,
              "#d8576b"
             ],
             [
              0.6666666666666666,
              "#ed7953"
             ],
             [
              0.7777777777777778,
              "#fb9f3a"
             ],
             [
              0.8888888888888888,
              "#fdca26"
             ],
             [
              1,
              "#f0f921"
             ]
            ],
            "type": "surface"
           }
          ],
          "table": [
           {
            "cells": {
             "fill": {
              "color": "#EBF0F8"
             },
             "line": {
              "color": "white"
             }
            },
            "header": {
             "fill": {
              "color": "#C8D4E3"
             },
             "line": {
              "color": "white"
             }
            },
            "type": "table"
           }
          ]
         },
         "layout": {
          "annotationdefaults": {
           "arrowcolor": "#2a3f5f",
           "arrowhead": 0,
           "arrowwidth": 1
          },
          "autotypenumbers": "strict",
          "coloraxis": {
           "colorbar": {
            "outlinewidth": 0,
            "ticks": ""
           }
          },
          "colorscale": {
           "diverging": [
            [
             0,
             "#8e0152"
            ],
            [
             0.1,
             "#c51b7d"
            ],
            [
             0.2,
             "#de77ae"
            ],
            [
             0.3,
             "#f1b6da"
            ],
            [
             0.4,
             "#fde0ef"
            ],
            [
             0.5,
             "#f7f7f7"
            ],
            [
             0.6,
             "#e6f5d0"
            ],
            [
             0.7,
             "#b8e186"
            ],
            [
             0.8,
             "#7fbc41"
            ],
            [
             0.9,
             "#4d9221"
            ],
            [
             1,
             "#276419"
            ]
           ],
           "sequential": [
            [
             0,
             "#0d0887"
            ],
            [
             0.1111111111111111,
             "#46039f"
            ],
            [
             0.2222222222222222,
             "#7201a8"
            ],
            [
             0.3333333333333333,
             "#9c179e"
            ],
            [
             0.4444444444444444,
             "#bd3786"
            ],
            [
             0.5555555555555556,
             "#d8576b"
            ],
            [
             0.6666666666666666,
             "#ed7953"
            ],
            [
             0.7777777777777778,
             "#fb9f3a"
            ],
            [
             0.8888888888888888,
             "#fdca26"
            ],
            [
             1,
             "#f0f921"
            ]
           ],
           "sequentialminus": [
            [
             0,
             "#0d0887"
            ],
            [
             0.1111111111111111,
             "#46039f"
            ],
            [
             0.2222222222222222,
             "#7201a8"
            ],
            [
             0.3333333333333333,
             "#9c179e"
            ],
            [
             0.4444444444444444,
             "#bd3786"
            ],
            [
             0.5555555555555556,
             "#d8576b"
            ],
            [
             0.6666666666666666,
             "#ed7953"
            ],
            [
             0.7777777777777778,
             "#fb9f3a"
            ],
            [
             0.8888888888888888,
             "#fdca26"
            ],
            [
             1,
             "#f0f921"
            ]
           ]
          },
          "colorway": [
           "#636efa",
           "#EF553B",
           "#00cc96",
           "#ab63fa",
           "#FFA15A",
           "#19d3f3",
           "#FF6692",
           "#B6E880",
           "#FF97FF",
           "#FECB52"
          ],
          "font": {
           "color": "#2a3f5f"
          },
          "geo": {
           "bgcolor": "white",
           "lakecolor": "white",
           "landcolor": "#E5ECF6",
           "showlakes": true,
           "showland": true,
           "subunitcolor": "white"
          },
          "hoverlabel": {
           "align": "left"
          },
          "hovermode": "closest",
          "mapbox": {
           "style": "light"
          },
          "paper_bgcolor": "white",
          "plot_bgcolor": "#E5ECF6",
          "polar": {
           "angularaxis": {
            "gridcolor": "white",
            "linecolor": "white",
            "ticks": ""
           },
           "bgcolor": "#E5ECF6",
           "radialaxis": {
            "gridcolor": "white",
            "linecolor": "white",
            "ticks": ""
           }
          },
          "scene": {
           "xaxis": {
            "backgroundcolor": "#E5ECF6",
            "gridcolor": "white",
            "gridwidth": 2,
            "linecolor": "white",
            "showbackground": true,
            "ticks": "",
            "zerolinecolor": "white"
           },
           "yaxis": {
            "backgroundcolor": "#E5ECF6",
            "gridcolor": "white",
            "gridwidth": 2,
            "linecolor": "white",
            "showbackground": true,
            "ticks": "",
            "zerolinecolor": "white"
           },
           "zaxis": {
            "backgroundcolor": "#E5ECF6",
            "gridcolor": "white",
            "gridwidth": 2,
            "linecolor": "white",
            "showbackground": true,
            "ticks": "",
            "zerolinecolor": "white"
           }
          },
          "shapedefaults": {
           "line": {
            "color": "#2a3f5f"
           }
          },
          "ternary": {
           "aaxis": {
            "gridcolor": "white",
            "linecolor": "white",
            "ticks": ""
           },
           "baxis": {
            "gridcolor": "white",
            "linecolor": "white",
            "ticks": ""
           },
           "bgcolor": "#E5ECF6",
           "caxis": {
            "gridcolor": "white",
            "linecolor": "white",
            "ticks": ""
           }
          },
          "title": {
           "x": 0.05
          },
          "xaxis": {
           "automargin": true,
           "gridcolor": "white",
           "linecolor": "white",
           "ticks": "",
           "title": {
            "standoff": 15
           },
           "zerolinecolor": "white",
           "zerolinewidth": 2
          },
          "yaxis": {
           "automargin": true,
           "gridcolor": "white",
           "linecolor": "white",
           "ticks": "",
           "title": {
            "standoff": 15
           },
           "zerolinecolor": "white",
           "zerolinewidth": 2
          }
         }
        },
        "title": {
         "text": "Зависимость чаевых от суммы счета"
        },
        "xaxis": {
         "anchor": "y",
         "domain": [
          0,
          1
         ],
         "title": {
          "text": "tip"
         }
        },
        "yaxis": {
         "anchor": "x",
         "domain": [
          0,
          1
         ],
         "title": {
          "text": "total_bill"
         }
        }
       }
      }
     },
     "metadata": {},
     "output_type": "display_data"
    },
    {
     "data": {
      "text/html": [
       "\n",
       "            <div style=\"\n",
       "                background-color:#f8d7da;\n",
       "                color:#721c24;\n",
       "                border:1px solid #f5c6cb;\n",
       "                border-radius:8px;\n",
       "                padding:12px 16px;\n",
       "                font-family:Arial;\n",
       "                font-size:16px;\n",
       "                font-weight:bold;\">\n",
       "                ❌ Ошибка: Расположите `total_bill` на оси X\n",
       "\n",
       "            </div>\n",
       "            "
      ],
      "text/plain": [
       "<IPython.core.display.HTML object>"
      ]
     },
     "execution_count": 29,
     "metadata": {},
     "output_type": "execute_result"
    }
   ],
   "source": [
    "%%run --module 3 --task 2 --plot\n",
    "\n",
    "import seaborn as sns\n",
    "import matplotlib.pyplot as plt\n",
    "import plotly.express as px\n",
    "import pandas as pd\n",
    "import numpy as np\n",
    "\n",
    "url = \"https://raw.githubusercontent.com/mwaskom/seaborn-data/master/tips.csv\"\n",
    "df = pd.read_csv(url)\n",
    "\n",
    "fig = px.scatter(df\n",
    "                , x=\"tip\"\n",
    "                , y=\"total_bill\"\n",
    "                , color=\"sex\"\n",
    "                , title=\"Зависимость чаевых от суммы счета\"\n",
    "                )\n",
    "fig.show()"
   ]
  },
  {
   "cell_type": "markdown",
   "id": "446e4d29-6758-4565-b701-edb55914838e",
   "metadata": {},
   "source": [
    "### Задание 3 API\n",
    "\n",
    "У пользователя `cu_labs` есть список книг, который он хотел бы прочитать. Обратитесь к API, чтобы узнать какие книги оказались в списке.\n",
    "\n",
    "Эндпоинт для обращение к API: /people/cu_labs/lists/OL300035L/seeds.json\n",
    "\n",
    "Сохраните ответ от API в переменной `response`"
   ]
  },
  {
   "cell_type": "code",
   "execution_count": 47,
   "id": "ec655491-ff7c-4e95-be95-4e1680444fd8",
   "metadata": {},
   "outputs": [
    {
     "name": "stdout",
     "output_type": "stream",
     "text": [
      "Namespace(module=3, task=3, plot=True, pyrunner='https://bba47b33i5vu3vho4n34.containers.yandexcloud.net/run')\n",
      "{'error': 'notfound', 'key': '/people/cu_labs/lists/seeds'}\n"
     ]
    },
    {
     "data": {
      "text/html": [
       "\n",
       "            <div style=\"\n",
       "                background-color:#f8d7da;\n",
       "                color:#721c24;\n",
       "                border:1px solid #f5c6cb;\n",
       "                border-radius:8px;\n",
       "                padding:12px 16px;\n",
       "                font-family:Arial;\n",
       "                font-size:16px;\n",
       "                font-weight:bold;\">\n",
       "                ❌ Ошибка: Переменной `endpoint` было переписвоено значение /people/cu_labs/lists/seeds.json, ожидалось /people/cu_labs/lists/OL300035L/seeds.json\n",
       "            </div>\n",
       "            "
      ],
      "text/plain": [
       "<IPython.core.display.HTML object>"
      ]
     },
     "execution_count": 47,
     "metadata": {},
     "output_type": "execute_result"
    }
   ],
   "source": [
    "%%run --module 3 --task 3 --plot\n",
    "\n",
    "import requests\n",
    "\n",
    "base_url = 'https://openlibrary.org'\n",
    "endpoint = '/people/cu_labs/lists/seeds.json'\n",
    "\n",
    "response = requests.get(base_url + endpoint)\n",
    "print(response.json())"
   ]
  },
  {
   "cell_type": "code",
   "execution_count": null,
   "id": "68f2ee9c-ee52-46bf-8fd9-ab67846a9e6a",
   "metadata": {},
   "outputs": [],
   "source": []
  }
 ],
 "metadata": {
  "kernelspec": {
   "display_name": "Python 3 (ipykernel)",
   "language": "python",
   "name": "python3"
  },
  "language_info": {
   "codemirror_mode": {
    "name": "ipython",
    "version": 3
   },
   "file_extension": ".py",
   "mimetype": "text/x-python",
   "name": "python",
   "nbconvert_exporter": "python",
   "pygments_lexer": "ipython3",
   "version": "3.13.5"
  }
 },
 "nbformat": 4,
 "nbformat_minor": 5
}
