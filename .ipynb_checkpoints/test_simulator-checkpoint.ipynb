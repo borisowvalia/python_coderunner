{
 "cells": [
  {
   "cell_type": "markdown",
   "id": "ded853f4-00a5-4aea-8574-423076dfcac9",
   "metadata": {
    "id": "ded853f4-00a5-4aea-8574-423076dfcac9"
   },
   "source": [
    "## Подготовка\n",
    "\n",
    "#### Установка библиотеки cupychecker\n",
    "\n",
    "Библиотека проверяет правильность кода\n",
    "```bash\n",
    "pip install --index-url https://test.pypi.org/simple cupychecker\n",
    "```\n",
    "Нам нужна magic команда `run`\n",
    "\n",
    "#### Запуск remote coderunner\n",
    "\n",
    "coderunner — сервис, в котором запускается код. Сервис возвращает stdoout и stderr\n",
    "\n",
    "```python\n",
    "os.environ[\"PYRUNNER\"] = \"http://python-exercise.python-exercise-prod.svc.cluster.local\"\n",
    "```"
   ]
  },
  {
   "cell_type": "markdown",
   "id": "MuRAdB84vke9",
   "metadata": {
    "id": "MuRAdB84vke9"
   },
   "source": [
    "## Использование"
   ]
  },
  {
   "cell_type": "code",
   "execution_count": 1,
   "id": "ec561e7c-1a62-4bac-b516-33373eb78074",
   "metadata": {
    "colab": {
     "base_uri": "https://localhost:8080/"
    },
    "id": "ec561e7c-1a62-4bac-b516-33373eb78074",
    "outputId": "75554adc-03ce-452d-be2e-e446a09f644a"
   },
   "outputs": [
    {
     "name": "stdout",
     "output_type": "stream",
     "text": [
      "Looking in indexes: https://test.pypi.org/simple\n",
      "Collecting cupychecker\n",
      "  Downloading https://test-files.pythonhosted.org/packages/e2/69/e1bc8c3e7e63d14d04dbbffdec43ce6355a858c950e3ba13393109caa73b/cupychecker-0.1.1-py3-none-any.whl.metadata (10 kB)\n",
      "Downloading https://test-files.pythonhosted.org/packages/e2/69/e1bc8c3e7e63d14d04dbbffdec43ce6355a858c950e3ba13393109caa73b/cupychecker-0.1.1-py3-none-any.whl (11 kB)\n",
      "Installing collected packages: cupychecker\n",
      "Successfully installed cupychecker-0.1.1\n",
      "Note: you may need to restart the kernel to use updated packages.\n"
     ]
    }
   ],
   "source": [
    "pip install --index-url https://test.pypi.org/simple cupychecker"
   ]
  },
  {
   "cell_type": "code",
   "execution_count": null,
   "id": "e40f2304-b6d0-4a34-8951-b5e14f8a6c57",
   "metadata": {
    "id": "e40f2304-b6d0-4a34-8951-b5e14f8a6c57"
   },
   "outputs": [],
   "source": [
    "from cupychecker.magic_runner import run\n",
    "import os\n",
    "\n",
    "os.environ[\"PYRUNNER\"] = \"http://python-exercise.python-exercise-prod.svc.cluster.local\""
   ]
  },
  {
   "cell_type": "markdown",
   "id": "5e5eb5bc-87c3-4dc5-a05c-d0277e672c2c",
   "metadata": {
    "id": "5e5eb5bc-87c3-4dc5-a05c-d0277e672c2c"
   },
   "source": [
    "## WEEK 2 FULL"
   ]
  },
  {
   "cell_type": "markdown",
   "id": "3c6c1f45-3ad3-4dad-ba87-023d63c0f62e",
   "metadata": {
    "id": "3c6c1f45-3ad3-4dad-ba87-023d63c0f62e"
   },
   "source": [
    "### Задание 1\n",
    "\n",
    " 1. Создай словарь, в котором ключами будут будущие названия колонок в таблице, а значениями — списки с&nbsp;соответствующими значениями колонок.\n",
    "\n",
    " 2. Создай датафрейм с помощью словаря из первого пункта.\n",
    "\n",
    " 3. Выведи количество столбцов и строк в датафрейме, а также типы данных колонок.\n",
    "\n",
    " 4. Сделай поле с идентификатором клиента индексом датафрейма."
   ]
  },
  {
   "cell_type": "markdown",
   "id": "-iSkLEzIvpPA",
   "metadata": {
    "id": "-iSkLEzIvpPA"
   },
   "source": [
    "Описание проверки для преподавателя:\n",
    "\n",
    ">task_1.yaml\n",
    "```yaml\n",
    "id: \"1\"\n",
    "description: \"Создай словарь, в котором ключами будут ...\"\n",
    "checks:\n",
    "  # Проверка на вызов функции DataFrame\n",
    "  - type: call\n",
    "    expected:\n",
    "      func: \"DataFrame\"\n",
    "  # Проверка на вызов функции head() в аргументом 3. Ожидается head(3)\n",
    "  - type: call\n",
    "    expected:\n",
    "      func: \"head\"\n",
    "      args:\n",
    "        - 3\n",
    "   #  Ожидается вызов set_index('id_client', inplace=True)\n",
    "  - type: call\n",
    "    expected:\n",
    "      func: \"set_index\"\n",
    "      args:\n",
    "        - \"id_client\"\n",
    "        - [\"inplace\", True]\n",
    "```"
   ]
  },
  {
   "cell_type": "code",
   "execution_count": null,
   "id": "111ca2de-cbae-4d0e-9a4d-7f45f0121c1f",
   "metadata": {
    "colab": {
     "base_uri": "https://localhost:8080/",
     "height": 272
    },
    "id": "111ca2de-cbae-4d0e-9a4d-7f45f0121c1f",
    "outputId": "6be3c615-662b-49d6-a33e-cfff4e321ef4"
   },
   "outputs": [
    {
     "name": "stdout",
     "output_type": "stream",
     "text": [
      "Namespace(module=2, task=1, plot=None, pyrunner='https://bba47b33i5vu3vho4n34.containers.yandexcloud.net/run')\n"
     ]
    },
    {
     "data": {
      "text/markdown": [
       "```\n",
       "   id_client  id_point  amt_pay    date_pay         comment\n",
       "0        111         1      150  2025-01-06     89169999999\n",
       "1        112         2      290  2025-02-06  dd15@gmail.com\n",
       "2        113         3     1000  2025-01-15               -\n",
       "3        114         4     1200  2025-02-01              --\n",
       "4        115         3      900  2025-01-13     89179999999\n",
       "5        116         3      850  2025-01-22  ss13@gmail.com\n",
       "6        117         2      300  2025-01-06   sd1@gmail.com\n",
       "7        118         1     2000  2025-02-08          Progr1\n",
       "8        119         2     2100  2025-02-09          Progr2\n",
       "9        120         3      960  2025-02-03          Progr3\n",
       "\n",
       "```"
      ],
      "text/plain": [
       "<IPython.core.display.Markdown object>"
      ]
     },
     "metadata": {},
     "output_type": "display_data"
    },
    {
     "data": {
      "text/html": [
       "\n",
       "            <div style=\"\n",
       "                background-color:#f8d7da;\n",
       "                color:#721c24;\n",
       "                border:1px solid #f5c6cb;\n",
       "                border-radius:8px;\n",
       "                padding:12px 16px;\n",
       "                font-family:Arial;\n",
       "                font-size:16px;\n",
       "                font-weight:bold;\">\n",
       "                ❌ Ошибка: Функция `head` вызвана с аргументами [10], ожидаются [3]\n",
       "            </div>\n",
       "            "
      ],
      "text/plain": [
       "<IPython.core.display.HTML object>"
      ]
     },
     "execution_count": 7,
     "metadata": {},
     "output_type": "execute_result"
    }
   ],
   "source": [
    "%%run --module 2 --task 1\n",
    "\n",
    "import pandas as pd\n",
    "\n",
    "client_list = [111,112,113,114,115,116,117,118,119,120]\n",
    "points_list = [1,2,3,4,3,3,2,1,2,3]\n",
    "pay_list = [150,290,1000,1200,900,850,300,2000,2100,960]\n",
    "date_pay_list = ['2025-01-06','2025-02-06','2025-01-15','2025-02-01','2025-01-13','2025-01-22','2025-01-06','2025-02-08','2025-02-09','2025-02-03']\n",
    "comment_list = ['89169999999', 'dd15@gmail.com', '-', '--', '89179999999','ss13@gmail.com','sd1@gmail.com','Progr1','Progr2','Progr3']\n",
    "\n",
    "dict_data = {  'id_client':client_list\n",
    "             , 'id_point': points_list\n",
    "             , 'amt_pay': pay_list\n",
    "             , 'date_pay': date_pay_list\n",
    "             , 'comment': comment_list\n",
    "            }\n",
    "\n",
    "df = pd.DataFrame(dict_data)\n",
    "df.set_index('id_client', inplace = False)\n",
    "\n",
    "print(df.head(10))"
   ]
  },
  {
   "cell_type": "markdown",
   "id": "acb516a4-1f11-414c-99c1-a4087a58f023",
   "metadata": {
    "id": "acb516a4-1f11-414c-99c1-a4087a58f023"
   },
   "source": [
    "### Задание 2\n",
    "\n",
    "Выведи все платежи строго больше $1000$ рублей, которые были произведены в торговых точках $1$ и $2$.\n",
    "\n",
    "Отсортируй результат по платежу от большего к меньшему.\n",
    "\n",
    ">task_2.yaml\n",
    "```yaml\n",
    "checks:\n",
    "  - type: call\n",
    "    expected:\n",
    "      func: \"DataFrame\"\n",
    "  #  Ищем в коде выражение df['id_point']<=2\n",
    "  - type: contains\n",
    "    expected:\n",
    "      code: >\n",
    "        df['id_point']<=2\n",
    "  - type: contains\n",
    "    expected:\n",
    "      code: >\n",
    "        df[\"amt_pay\"] > 1000\n",
    "  - type: call\n",
    "    expected:\n",
    "      func: \"sort_values\"\n",
    "      args:\n",
    "        - \"amt_pay\"\n",
    "        - [\"ascending\", False]\n",
    "```"
   ]
  },
  {
   "cell_type": "code",
   "execution_count": null,
   "id": "2faa4069-c428-462c-8046-d035f5676fd4",
   "metadata": {
    "colab": {
     "base_uri": "https://localhost:8080/",
     "height": 150
    },
    "id": "2faa4069-c428-462c-8046-d035f5676fd4",
    "outputId": "f3deb015-8586-4101-9d44-99671ad0e7bc"
   },
   "outputs": [
    {
     "name": "stdout",
     "output_type": "stream",
     "text": [
      "Namespace(module=2, task=2, plot=None, pyrunner='https://bba47b33i5vu3vho4n34.containers.yandexcloud.net/run')\n"
     ]
    },
    {
     "data": {
      "text/markdown": [
       "```\n",
       "           id_point  amt_pay    date_pay comment\n",
       "id_client                                       \n",
       "118               1     2000  2025-02-08  Progr1\n",
       "119               2     2100  2025-02-09  Progr2\n",
       "\n",
       "```"
      ],
      "text/plain": [
       "<IPython.core.display.Markdown object>"
      ]
     },
     "metadata": {},
     "output_type": "display_data"
    },
    {
     "data": {
      "text/html": [
       "\n",
       "            <div style=\"\n",
       "                background-color:#f8d7da;\n",
       "                color:#721c24;\n",
       "                border:1px solid #f5c6cb;\n",
       "                border-radius:8px;\n",
       "                padding:12px 16px;\n",
       "                font-family:Arial;\n",
       "                font-size:16px;\n",
       "                font-weight:bold;\">\n",
       "                ❌ Ошибка: Функция `sort_values` вызвана с аргументами ['amt_pay', ('ascending', True)], ожидаются ['amt_pay', ['ascending', False]]\n",
       "            </div>\n",
       "            "
      ],
      "text/plain": [
       "<IPython.core.display.HTML object>"
      ]
     },
     "execution_count": 4,
     "metadata": {},
     "output_type": "execute_result"
    }
   ],
   "source": [
    "%%run --module 2 --task 2\n",
    "import pandas as pd\n",
    "\n",
    "client_list = [111,112,113,114,115,116,117,118,119,120]\n",
    "points_list = [1,2,3,4,3,3,2,1,2,3]\n",
    "pay_list = [150,290,1000,1200,900,850,300,2000,2100,960]\n",
    "date_pay_list = ['2025-01-06','2025-02-06','2025-01-15','2025-02-01','2025-01-13','2025-01-22','2025-01-06','2025-02-08','2025-02-09','2025-02-03']\n",
    "comment_list = ['89169999999', 'dd15@gmail.com', '-', '--', '89179999999','ss13@gmail.com','sd1@gmail.com','Progr1','Progr2','Progr3']\n",
    "dict_data = {  'id_client':client_list\n",
    "           , 'id_point': points_list\n",
    "           , 'amt_pay': pay_list\n",
    "           , 'date_pay': date_pay_list\n",
    "           , 'comment': comment_list\n",
    "          }\n",
    "\n",
    "df = pd.DataFrame(dict_data)\n",
    "df.set_index('id_client', inplace = True)\n",
    "\n",
    "print(df[(df['amt_pay']>1000) & (df['id_point']<=2)].sort_values('amt_pay', ascending = True))"
   ]
  },
  {
   "cell_type": "markdown",
   "id": "4dc837e7-ee39-4f1e-be4f-a82e44109b4b",
   "metadata": {
    "id": "4dc837e7-ee39-4f1e-be4f-a82e44109b4b",
    "jp-MarkdownHeadingCollapsed": true
   },
   "source": [
    "### Задание 3\n",
    "\n",
    "Выведи самый большой платёж в торговой точке номер 3."
   ]
  },
  {
   "cell_type": "code",
   "execution_count": null,
   "id": "e79216f3-3b2d-401a-92fb-f102ddfe9258",
   "metadata": {
    "colab": {
     "base_uri": "https://localhost:8080/",
     "height": 133
    },
    "id": "e79216f3-3b2d-401a-92fb-f102ddfe9258",
    "outputId": "fecdedf7-d0d0-4155-fc14-08367e9f9a76"
   },
   "outputs": [
    {
     "name": "stdout",
     "output_type": "stream",
     "text": [
      "Namespace(module=2, task=3, plot=None, pyrunner='https://bba47b33i5vu3vho4n34.containers.yandexcloud.net/run')\n"
     ]
    },
    {
     "data": {
      "text/markdown": [
       "```\n",
       "id_client\n",
       "114    1200\n",
       "Name: amt_pay, dtype: int64\n",
       "\n",
       "```"
      ],
      "text/plain": [
       "<IPython.core.display.Markdown object>"
      ]
     },
     "metadata": {},
     "output_type": "display_data"
    },
    {
     "data": {
      "text/html": [
       "\n",
       "            <div style=\"\n",
       "                background-color:#f8d7da;\n",
       "                color:#721c24;\n",
       "                border:1px solid #f5c6cb;\n",
       "                border-radius:8px;\n",
       "                padding:12px 16px;\n",
       "                font-family:Arial;\n",
       "                font-size:16px;\n",
       "                font-weight:bold;\">\n",
       "                ❌ Ошибка: Ожидается df['id_point'] == 3\n",
       "\n",
       "            </div>\n",
       "            "
      ],
      "text/plain": [
       "<IPython.core.display.HTML object>"
      ]
     },
     "execution_count": 5,
     "metadata": {},
     "output_type": "execute_result"
    }
   ],
   "source": [
    "%%run --module 2 --task 3\n",
    "import pandas as pd\n",
    "\n",
    "client_list = [111,112,113,114,115,116,117,118,119,120]\n",
    "points_list = [1,2,3,4,3,3,2,1,2,3]\n",
    "pay_list = [150,290,1000,1200,900,850,300,2000,2100,960]\n",
    "date_pay_list = ['2025-01-06','2025-02-06','2025-01-15','2025-02-01','2025-01-13','2025-01-22','2025-01-06','2025-02-08','2025-02-09','2025-02-03']\n",
    "comment_list = ['89169999999', 'dd15@gmail.com', '-', '--', '89179999999','ss13@gmail.com','sd1@gmail.com','Progr1','Progr2','Progr3']\n",
    "dict_data = {  'id_client':client_list\n",
    "           , 'id_point': points_list\n",
    "           , 'amt_pay': pay_list\n",
    "           , 'date_pay': date_pay_list\n",
    "           , 'comment': comment_list\n",
    "          }\n",
    "\n",
    "df = pd.DataFrame(dict_data)\n",
    "df.set_index('id_client', inplace = True)\n",
    "\n",
    "print(df[df['id_point']==4].sort_values('amt_pay', ascending = False).head(1)['amt_pay'])"
   ]
  },
  {
   "cell_type": "markdown",
   "id": "cb88c71b-c251-4f8e-a5b4-f40992af4062",
   "metadata": {
    "id": "cb88c71b-c251-4f8e-a5b4-f40992af4062",
    "jp-MarkdownHeadingCollapsed": true
   },
   "source": [
    "### Задание 4\n",
    "\n",
    " 1. С помощью функции *loc* выведи платежи и комментарии, соответствующие идентификаторам клиента $112$ и $113$.\n",
    "\n",
    " 2. Сделай то же самое с помощью функции *iloc*.\n",
    "\n",
    " 3. Убедись, что вывод получается одинаковый."
   ]
  },
  {
   "cell_type": "code",
   "execution_count": null,
   "id": "b166b9ff-f9a0-4600-aba1-a87dc4e60d74",
   "metadata": {
    "colab": {
     "base_uri": "https://localhost:8080/",
     "height": 220
    },
    "id": "b166b9ff-f9a0-4600-aba1-a87dc4e60d74",
    "outputId": "05062874-f9c3-4274-a949-f0230a16d1b5"
   },
   "outputs": [
    {
     "name": "stdout",
     "output_type": "stream",
     "text": [
      "Namespace(module=2, task=4, plot=None, pyrunner='https://bba47b33i5vu3vho4n34.containers.yandexcloud.net/run')\n"
     ]
    },
    {
     "data": {
      "text/markdown": [
       "```\n",
       "           id_point  amt_pay    date_pay         comment\n",
       "id_client                                               \n",
       "112               2      290  2025-02-06  dd15@gmail.com\n",
       "113               3     1000  2025-01-15               -\n",
       "           id_point  amt_pay    date_pay         comment\n",
       "id_client                                               \n",
       "112               2      290  2025-02-06  dd15@gmail.com\n",
       "113               3     1000  2025-01-15               -\n",
       "\n",
       "```"
      ],
      "text/plain": [
       "<IPython.core.display.Markdown object>"
      ]
     },
     "metadata": {},
     "output_type": "display_data"
    },
    {
     "data": {
      "text/html": [
       "\n",
       "        <div style=\"\n",
       "            background-color:#d4edda;\n",
       "            color:#155724;\n",
       "            border:1px solid #c3e6cb;\n",
       "            border-radius:8px;\n",
       "            padding:12px 16px;\n",
       "            font-family:Arial;\n",
       "            font-size:16px;\n",
       "            font-weight:bold;\">\n",
       "            ✅ Проверка пройдена успешно!\n",
       "        </div>\n",
       "        "
      ],
      "text/plain": [
       "<IPython.core.display.HTML object>"
      ]
     },
     "execution_count": 6,
     "metadata": {},
     "output_type": "execute_result"
    }
   ],
   "source": [
    "%%run --module 2 --task 4\n",
    "import pandas as pd\n",
    "\n",
    "client_list = [111,112,113,114,115,116,117,118,119,120]\n",
    "points_list = [1,2,3,4,3,3,2,1,2,3]\n",
    "pay_list = [150,290,1000,1200,900,850,300,2000,2100,960]\n",
    "date_pay_list = ['2025-01-06','2025-02-06','2025-01-15','2025-02-01','2025-01-13','2025-01-22','2025-01-06','2025-02-08','2025-02-09','2025-02-03']\n",
    "comment_list = ['89169999999', 'dd15@gmail.com', '-', '--', '89179999999','ss13@gmail.com','sd1@gmail.com','Progr1','Progr2','Progr3']\n",
    "dict_data = {  'id_client':client_list\n",
    "           , 'id_point': points_list\n",
    "           , 'amt_pay': pay_list\n",
    "           , 'date_pay': date_pay_list\n",
    "           , 'comment': comment_list\n",
    "          }\n",
    "\n",
    "df = pd.DataFrame(dict_data)\n",
    "df.set_index('id_client', inplace = True)\n",
    "\n",
    "print(df.loc[[112,113]])\n",
    "print(df.iloc[[1, 2]])"
   ]
  },
  {
   "cell_type": "markdown",
   "id": "40cac1c5-c095-4de8-87ab-00a94d713161",
   "metadata": {
    "id": "40cac1c5-c095-4de8-87ab-00a94d713161",
    "jp-MarkdownHeadingCollapsed": true
   },
   "source": [
    "### Задание 5\n",
    "\n",
    " 1. Приведи столбец с датой платежа к формату даты.\n",
    "\n",
    " 2. Создай в датафрейме новый столбец с датой платежа, приведённой к началу месяца.\n",
    "\n",
    " 3. Создай в датафрейме новый столбец с номерами месяца."
   ]
  },
  {
   "cell_type": "code",
   "execution_count": null,
   "id": "6f241c71-1d6d-4b86-bc51-f2bfcb88d395",
   "metadata": {
    "colab": {
     "base_uri": "https://localhost:8080/",
     "height": 167
    },
    "id": "6f241c71-1d6d-4b86-bc51-f2bfcb88d395",
    "outputId": "599b66d7-7afe-4253-e26b-ecf3d1be3321"
   },
   "outputs": [
    {
     "name": "stdout",
     "output_type": "stream",
     "text": [
      "Namespace(module=2, task=5, plot=None, pyrunner='https://bba47b33i5vu3vho4n34.containers.yandexcloud.net/run')\n"
     ]
    },
    {
     "data": {
      "text/markdown": [
       "```\n",
       "           id_point  amt_pay   date_pay         comment  month_int  month_dat\n",
       "id_client                                                                    \n",
       "111               1      150 2025-01-06     89169999999          1 2025-01-06\n",
       "112               2      290 2025-02-06  dd15@gmail.com          2 2025-02-03\n",
       "113               3     1000 2025-01-15               -          1 2025-01-13\n",
       "\n",
       "```"
      ],
      "text/plain": [
       "<IPython.core.display.Markdown object>"
      ]
     },
     "metadata": {},
     "output_type": "display_data"
    },
    {
     "data": {
      "text/html": [
       "\n",
       "            <div style=\"\n",
       "                background-color:#f8d7da;\n",
       "                color:#721c24;\n",
       "                border:1px solid #f5c6cb;\n",
       "                border-radius:8px;\n",
       "                padding:12px 16px;\n",
       "                font-family:Arial;\n",
       "                font-size:16px;\n",
       "                font-weight:bold;\">\n",
       "                ❌ Ошибка: Функция `to_period` вызвана с аргументами ['W'], ожидаются ['M']\n",
       "            </div>\n",
       "            "
      ],
      "text/plain": [
       "<IPython.core.display.HTML object>"
      ]
     },
     "execution_count": 7,
     "metadata": {},
     "output_type": "execute_result"
    }
   ],
   "source": [
    "%%run --module 2 --task 5\n",
    "\n",
    "import pandas as pd\n",
    "\n",
    "client_list = [111,112,113,114,115,116,117,118,119,120]\n",
    "points_list = [1,2,3,4,3,3,2,1,2,3]\n",
    "pay_list = [150,290,1000,1200,900,850,300,2000,2100,960]\n",
    "date_pay_list = ['2025-01-06','2025-02-06','2025-01-15','2025-02-01','2025-01-13','2025-01-22','2025-01-06','2025-02-08','2025-02-09','2025-02-03']\n",
    "comment_list = ['89169999999', 'dd15@gmail.com', '-', '--', '89179999999','ss13@gmail.com','sd1@gmail.com','Progr1','Progr2','Progr3']\n",
    "dict_data = {  'id_client':client_list\n",
    "          , 'id_point': points_list\n",
    "          , 'amt_pay': pay_list\n",
    "          , 'date_pay': date_pay_list\n",
    "          , 'comment': comment_list\n",
    "          }\n",
    "df = pd.DataFrame(dict_data)\n",
    "df.set_index('id_client', inplace = True)\n",
    "\n",
    "df['date_pay'] = pd.to_datetime(df['date_pay'])\n",
    "df['month_int'] = df['date_pay'].dt.month\n",
    "df['month_dat'] = df['date_pay'].dt.to_period(\"W\").dt.to_timestamp()\n",
    "\n",
    "print(df.head(3))"
   ]
  },
  {
   "cell_type": "markdown",
   "id": "0a5049a8-a1f3-4f1e-b619-93b4c6c65bb9",
   "metadata": {
    "id": "0a5049a8-a1f3-4f1e-b619-93b4c6c65bb9",
    "jp-MarkdownHeadingCollapsed": true
   },
   "source": [
    "### Задание 6\n",
    "\n",
    " 1. Выведи строки, в которых комментарий представляет собой адрес электронной почты (проверка по содержанию символа собаки)."
   ]
  },
  {
   "cell_type": "code",
   "execution_count": null,
   "id": "c7ca50b0-e4ec-4a62-b71e-09564b9caea4",
   "metadata": {
    "colab": {
     "base_uri": "https://localhost:8080/",
     "height": 167
    },
    "id": "c7ca50b0-e4ec-4a62-b71e-09564b9caea4",
    "outputId": "1e6259d4-fbe3-452b-98a2-b652ab2f2953"
   },
   "outputs": [
    {
     "name": "stdout",
     "output_type": "stream",
     "text": [
      "Namespace(module=2, task=6, plot=None, pyrunner='https://bba47b33i5vu3vho4n34.containers.yandexcloud.net/run')\n"
     ]
    },
    {
     "data": {
      "text/markdown": [
       "```\n",
       "           id_point  amt_pay   date_pay         comment  month_int  month_dat\n",
       "id_client                                                                    \n",
       "112               2      290 2025-02-06  dd15@gmail.com 2025-02-06 2025-02-01\n",
       "116               3      850 2025-01-22  ss13@gmail.com 2025-01-22 2025-01-01\n",
       "117               2      300 2025-01-06   sd1@gmail.com 2025-01-06 2025-01-01\n",
       "\n",
       "```"
      ],
      "text/plain": [
       "<IPython.core.display.Markdown object>"
      ]
     },
     "metadata": {},
     "output_type": "display_data"
    },
    {
     "data": {
      "text/html": [
       "\n",
       "        <div style=\"\n",
       "            background-color:#d4edda;\n",
       "            color:#155724;\n",
       "            border:1px solid #c3e6cb;\n",
       "            border-radius:8px;\n",
       "            padding:12px 16px;\n",
       "            font-family:Arial;\n",
       "            font-size:16px;\n",
       "            font-weight:bold;\">\n",
       "            ✅ Проверка пройдена успешно!\n",
       "        </div>\n",
       "        "
      ],
      "text/plain": [
       "<IPython.core.display.HTML object>"
      ]
     },
     "execution_count": 8,
     "metadata": {},
     "output_type": "execute_result"
    }
   ],
   "source": [
    "%%run --module 2 --task 6\n",
    "\n",
    "import pandas as pd\n",
    "\n",
    "client_list = [111,112,113,114,115,116,117,118,119,120]\n",
    "points_list = [1,2,3,4,3,3,2,1,2,3]\n",
    "pay_list = [150,290,1000,1200,900,850,300,2000,2100,960]\n",
    "date_pay_list = ['2025-01-06','2025-02-06','2025-01-15','2025-02-01','2025-01-13','2025-01-22','2025-01-06','2025-02-08','2025-02-09','2025-02-03']\n",
    "comment_list = ['89169999999', 'dd15@gmail.com', '-', '--', '89179999999','ss13@gmail.com','sd1@gmail.com','Progr1','Progr2','Progr3']\n",
    "dict_data = {  'id_client':client_list\n",
    "          , 'id_point': points_list\n",
    "          , 'amt_pay': pay_list\n",
    "          , 'date_pay': date_pay_list\n",
    "          , 'comment': comment_list\n",
    "          }\n",
    "\n",
    "df = pd.DataFrame(dict_data)\n",
    "df.set_index('id_client', inplace = True)\n",
    "\n",
    "df['date_pay'] = pd.to_datetime(df['date_pay'])\n",
    "df['month_int'] = df['date_pay']\n",
    "df['month_dat'] = df['date_pay'].dt.to_period('M').dt.to_timestamp()\n",
    "\n",
    "print(df[df['comment'].str.contains('@')])"
   ]
  },
  {
   "cell_type": "markdown",
   "id": "98d8dbdf-be6d-4e6f-ae26-8256a7df503f",
   "metadata": {
    "id": "98d8dbdf-be6d-4e6f-ae26-8256a7df503f"
   },
   "source": [
    "## Графики"
   ]
  },
  {
   "cell_type": "markdown",
   "id": "e84c29de-2ef2-4a94-8a7c-2bb6da388831",
   "metadata": {
    "id": "e84c29de-2ef2-4a94-8a7c-2bb6da388831"
   },
   "source": [
    "### Задание 1 SEABORN\n",
    "\n",
    "Построй распределение счетов (total_bill) с помощью гистограммы Seaborn.\n",
    "\n",
    "> task_1.yaml\n",
    "\n",
    "```yaml\n",
    "checks:\n",
    "  - type: call\n",
    "    expected:\n",
    "      func: \"histplot\"\n",
    "      args:\n",
    "        - \"df['total_bill']\"\n",
    "        - [\"bins\", 20]\n",
    "  - type: call\n",
    "    expected:\n",
    "      func: \"title\"\n",
    "      args:\n",
    "        - \"Распределение счетов\"\n",
    "    message: \"Подпишите график: `Распределение счетов`\"\n",
    "  - type: call\n",
    "    expected:\n",
    "      func: \"xlabel\"\n",
    "      args:\n",
    "        - \"Сумма счета\"\n",
    "    message: \"Подпишите ось X\"\n",
    "  - type: call\n",
    "    expected:\n",
    "      func: \"ylabel\"\n",
    "      args:\n",
    "        - \"Частота\"\n",
    "    message: \"Подпишите ось Y\"\n",
    "  - type: call\n",
    "    expected:\n",
    "      func: \"show\"\n",
    "    message: \"Выведите график\"\n",
    "```"
   ]
  },
  {
   "cell_type": "code",
   "execution_count": null,
   "id": "371073bf-4a9a-4739-8bc0-eeb0757e3a5b",
   "metadata": {
    "colab": {
     "base_uri": "https://localhost:8080/",
     "height": 536
    },
    "id": "371073bf-4a9a-4739-8bc0-eeb0757e3a5b",
    "outputId": "95d5e0a9-3bb9-4f7b-cef6-af52f209dc5f"
   },
   "outputs": [
    {
     "name": "stdout",
     "output_type": "stream",
     "text": [
      "Namespace(module=3, task=1, plot=True, pyrunner='https://bba47b33i5vu3vho4n34.containers.yandexcloud.net/run')\n"
     ]
    },
    {
     "data": {
      "image/png": "[encoded data removed]",
      "text/plain": [
       "<Figure size 640x480 with 1 Axes>"
      ]
     },
     "metadata": {},
     "output_type": "display_data"
    },
    {
     "data": {
      "text/html": [
       "\n",
       "            <div style=\"\n",
       "                background-color:#f8d7da;\n",
       "                color:#721c24;\n",
       "                border:1px solid #f5c6cb;\n",
       "                border-radius:8px;\n",
       "                padding:12px 16px;\n",
       "                font-family:Arial;\n",
       "                font-size:16px;\n",
       "                font-weight:bold;\">\n",
       "                ❌ Ошибка: Подпишите ось Y\n",
       "            </div>\n",
       "            "
      ],
      "text/plain": [
       "<IPython.core.display.HTML object>"
      ]
     },
     "execution_count": 6,
     "metadata": {},
     "output_type": "execute_result"
    }
   ],
   "source": [
    "%%run --module=3 --task=1 --plot\n",
    "\n",
    "import seaborn as sns\n",
    "import matplotlib.pyplot as plt\n",
    "import pandas as pd\n",
    "import numpy as np\n",
    "\n",
    "url = \"https://raw.githubusercontent.com/mwaskom/seaborn-data/master/tips.csv\"\n",
    "df = pd.read_csv(url)\n",
    "\n",
    "sns.histplot(df['total_bill'], bins=20, kde=True)\n",
    "plt.title(\"Распределение счетов\")\n",
    "plt.xlabel(\"Сумма счета\")\n",
    "# plt.ylabel(\"Частота\")\n",
    "plt.show()"
   ]
  },
  {
   "cell_type": "markdown",
   "id": "8e602c41-4e8f-414c-8d8d-b1d35d577b31",
   "metadata": {
    "id": "8e602c41-4e8f-414c-8d8d-b1d35d577b31"
   },
   "source": [
    "### Задание 2 PLOTLY\n",
    "\n",
    "Построй с помощью Plotly scatter plot зависимости total_bill от tip, раскрасив точки по полу."
   ]
  },
  {
   "cell_type": "code",
   "execution_count": null,
   "id": "28fa858f-2eb8-4204-82aa-c4b061df7a70",
   "metadata": {
    "colab": {
     "base_uri": "https://localhost:8080/",
     "height": 606
    },
    "id": "28fa858f-2eb8-4204-82aa-c4b061df7a70",
    "outputId": "13fb7ef4-3899-4cc1-d4da-7cef42b08890"
   },
   "outputs": [
    {
     "name": "stdout",
     "output_type": "stream",
     "text": [
      "Namespace(module=3, task=2, plot=True, pyrunner='https://bba47b33i5vu3vho4n34.containers.yandexcloud.net/run')\n"
     ]
    },
    {
     "data": {
      "text/html": [
       "<html>\n",
       "<head><meta charset=\"utf-8\" /></head>\n",
       "<body>\n",
       "    <div>            <script src=\"https://cdnjs.cloudflare.com/ajax/libs/mathjax/2.7.5/MathJax.js?config=TeX-AMS-MML_SVG\"></script><script type=\"text/javascript\">if (window.MathJax && window.MathJax.Hub && window.MathJax.Hub.Config) {window.MathJax.Hub.Config({SVG: {font: \"STIX-Web\"}});}</script>                <script type=\"text/javascript\">window.PlotlyConfig = {MathJaxConfig: 'local'};</script>\n",
       "        <script charset=\"utf-8\" src=\"https://cdn.plot.ly/plotly-2.35.2.min.js\"></script>                <div id=\"2f3a4887-aab8-4a40-b0b3-c80f62a2ab3c\" class=\"plotly-graph-div\" style=\"height:525px; width:100%;\"></div>            <script type=\"text/javascript\">                                    window.PLOTLYENV=window.PLOTLYENV || {};                                    if (document.getElementById(\"2f3a4887-aab8-4a40-b0b3-c80f62a2ab3c\")) {                    Plotly.newPlot(                        \"2f3a4887-aab8-4a40-b0b3-c80f62a2ab3c\",                        [{\"hovertemplate\":\"sex=Female\\u003cbr\\u003etip=%{x}\\u003cbr\\u003etotal_bill=%{y}\\u003cextra\\u003e\\u003c\\u002fextra\\u003e\",\"legendgroup\":\"Female\",\"marker\":{\"color\":\"#636efa\",\"symbol\":\"circle\"},\"mode\":\"markers\",\"name\":\"Female\",\"orientation\":\"v\",\"showlegend\":true,\"x\":[1.01,3.61,5.0,3.02,1.67,3.5,2.75,2.23,3.0,3.0,2.45,3.07,2.6,5.2,1.5,2.47,1.0,3.0,3.14,5.0,2.2,1.83,5.17,1.0,4.3,3.25,2.5,3.0,2.5,3.48,4.08,4.0,1.0,4.0,3.5,1.5,1.8,2.92,1.68,2.52,4.2,2.0,2.0,2.83,1.5,2.0,3.25,1.25,2.0,2.0,2.75,3.5,5.0,2.3,1.5,1.36,1.63,5.14,3.75,2.61,2.0,3.0,1.61,2.0,4.0,3.5,3.5,4.19,5.0,2.0,2.01,2.0,2.5,3.23,2.23,2.5,6.5,1.1,3.09,3.48,3.0,2.5,2.0,2.88,4.67,2.0,3.0],\"xaxis\":\"x\",\"y\":[16.99,24.59,35.26,14.83,10.33,16.97,20.29,15.77,19.65,15.06,20.69,16.93,10.29,34.81,26.41,16.45,3.07,17.07,26.86,25.28,14.73,10.07,34.83,5.75,16.32,22.75,11.35,15.38,44.3,22.42,20.92,14.31,7.25,25.71,17.31,10.65,12.43,24.08,13.42,12.48,29.8,14.52,11.38,20.27,11.17,12.26,18.26,8.51,10.33,14.15,13.16,17.47,27.05,16.43,8.35,18.64,11.87,29.85,25.0,13.39,16.21,17.51,10.59,10.63,9.6,20.9,18.15,19.81,43.11,13.0,12.74,13.0,16.4,16.47,12.76,13.27,28.17,12.9,30.14,13.42,15.98,16.27,10.09,22.12,35.83,27.18,18.78],\"yaxis\":\"y\",\"type\":\"scatter\"},{\"hovertemplate\":\"sex=Male\\u003cbr\\u003etip=%{x}\\u003cbr\\u003etotal_bill=%{y}\\u003cextra\\u003e\\u003c\\u002fextra\\u003e\",\"legendgroup\":\"Male\",\"marker\":{\"color\":\"#EF553B\",\"symbol\":\"circle\"},\"mode\":\"markers\",\"name\":\"Male\",\"orientation\":\"v\",\"showlegend\":true,\"x\":[1.66,3.5,3.31,4.71,2.0,3.12,1.96,3.23,1.71,1.57,3.0,3.92,3.71,3.35,4.08,7.58,3.18,2.34,2.0,2.0,4.3,1.45,2.5,3.27,3.6,2.0,2.31,5.0,2.24,2.54,3.06,1.32,5.6,3.0,5.0,6.0,2.05,3.0,2.5,1.56,4.34,3.51,3.0,1.76,6.73,3.21,2.0,1.98,3.76,2.64,3.15,2.01,2.09,1.97,1.25,3.08,4.0,3.0,2.71,3.0,3.4,5.0,2.03,2.0,4.0,5.85,3.0,3.0,3.5,4.73,4.0,1.5,3.0,1.5,1.64,4.06,4.29,3.76,3.0,4.0,2.55,5.07,2.31,2.5,2.0,1.48,2.18,1.5,2.0,6.7,5.0,1.73,2.0,2.5,2.0,2.74,2.0,2.0,5.0,2.0,3.5,2.5,2.0,3.48,2.24,4.5,10.0,3.16,5.15,3.18,4.0,3.11,2.0,2.0,3.55,3.68,5.65,3.5,6.5,3.0,5.0,2.0,4.0,1.5,2.56,2.02,4.0,1.44,2.0,2.0,4.0,4.0,3.41,3.0,2.03,2.0,5.16,9.0,3.0,1.5,1.44,2.2,1.92,1.58,3.0,2.72,2.0,3.0,3.39,1.47,3.0,1.25,1.0,1.17,5.92,2.0,1.75],\"xaxis\":\"x\",\"y\":[10.34,21.01,23.68,25.29,8.77,26.88,15.04,14.78,10.27,15.42,18.43,21.58,16.29,20.65,17.92,39.42,19.82,17.81,13.37,12.69,21.7,9.55,18.35,17.78,24.06,16.31,18.69,31.27,16.04,17.46,13.94,9.68,30.4,18.29,22.23,32.4,28.55,18.04,12.54,9.94,25.56,19.49,38.01,11.24,48.27,20.29,13.81,11.02,18.29,17.59,20.08,20.23,15.01,12.02,10.51,17.92,27.2,22.76,17.29,19.44,16.66,32.68,15.98,13.03,18.28,24.71,21.16,28.97,22.49,40.17,27.28,12.03,21.01,12.46,15.36,20.49,25.21,18.24,14.0,38.07,23.95,29.93,11.69,14.26,15.95,8.52,22.82,19.08,16.0,34.3,41.19,9.78,7.51,14.07,13.13,17.26,24.55,19.77,48.17,16.49,21.5,12.66,13.81,24.52,20.76,31.71,50.81,15.81,7.25,31.85,16.82,32.9,17.89,14.48,34.63,34.65,23.33,45.35,23.17,40.55,20.69,30.46,23.1,15.69,28.44,15.48,16.58,7.56,10.34,13.51,18.71,20.53,26.59,38.73,24.27,30.06,25.89,48.33,28.15,11.59,7.74,12.16,8.58,13.42,20.45,13.28,24.01,15.69,11.61,10.77,15.53,10.07,12.6,32.83,29.03,22.67,17.82],\"yaxis\":\"y\",\"type\":\"scatter\"}],                        {\"template\":{\"data\":{\"histogram2dcontour\":[{\"type\":\"histogram2dcontour\",\"colorbar\":{\"outlinewidth\":0,\"ticks\":\"\"},\"colorscale\":[[0.0,\"#0d0887\"],[0.1111111111111111,\"#46039f\"],[0.2222222222222222,\"#7201a8\"],[0.3333333333333333,\"#9c179e\"],[0.4444444444444444,\"#bd3786\"],[0.5555555555555556,\"#d8576b\"],[0.6666666666666666,\"#ed7953\"],[0.7777777777777778,\"#fb9f3a\"],[0.8888888888888888,\"#fdca26\"],[1.0,\"#f0f921\"]]}],\"choropleth\":[{\"type\":\"choropleth\",\"colorbar\":{\"outlinewidth\":0,\"ticks\":\"\"}}],\"histogram2d\":[{\"type\":\"histogram2d\",\"colorbar\":{\"outlinewidth\":0,\"ticks\":\"\"},\"colorscale\":[[0.0,\"#0d0887\"],[0.1111111111111111,\"#46039f\"],[0.2222222222222222,\"#7201a8\"],[0.3333333333333333,\"#9c179e\"],[0.4444444444444444,\"#bd3786\"],[0.5555555555555556,\"#d8576b\"],[0.6666666666666666,\"#ed7953\"],[0.7777777777777778,\"#fb9f3a\"],[0.8888888888888888,\"#fdca26\"],[1.0,\"#f0f921\"]]}],\"heatmap\":[{\"type\":\"heatmap\",\"colorbar\":{\"outlinewidth\":0,\"ticks\":\"\"},\"colorscale\":[[0.0,\"#0d0887\"],[0.1111111111111111,\"#46039f\"],[0.2222222222222222,\"#7201a8\"],[0.3333333333333333,\"#9c179e\"],[0.4444444444444444,\"#bd3786\"],[0.5555555555555556,\"#d8576b\"],[0.6666666666666666,\"#ed7953\"],[0.7777777777777778,\"#fb9f3a\"],[0.8888888888888888,\"#fdca26\"],[1.0,\"#f0f921\"]]}],\"heatmapgl\":[{\"type\":\"heatmapgl\",\"colorbar\":{\"outlinewidth\":0,\"ticks\":\"\"},\"colorscale\":[[0.0,\"#0d0887\"],[0.1111111111111111,\"#46039f\"],[0.2222222222222222,\"#7201a8\"],[0.3333333333333333,\"#9c179e\"],[0.4444444444444444,\"#bd3786\"],[0.5555555555555556,\"#d8576b\"],[0.6666666666666666,\"#ed7953\"],[0.7777777777777778,\"#fb9f3a\"],[0.8888888888888888,\"#fdca26\"],[1.0,\"#f0f921\"]]}],\"contourcarpet\":[{\"type\":\"contourcarpet\",\"colorbar\":{\"outlinewidth\":0,\"ticks\":\"\"}}],\"contour\":[{\"type\":\"contour\",\"colorbar\":{\"outlinewidth\":0,\"ticks\":\"\"},\"colorscale\":[[0.0,\"#0d0887\"],[0.1111111111111111,\"#46039f\"],[0.2222222222222222,\"#7201a8\"],[0.3333333333333333,\"#9c179e\"],[0.4444444444444444,\"#bd3786\"],[0.5555555555555556,\"#d8576b\"],[0.6666666666666666,\"#ed7953\"],[0.7777777777777778,\"#fb9f3a\"],[0.8888888888888888,\"#fdca26\"],[1.0,\"#f0f921\"]]}],\"surface\":[{\"type\":\"surface\",\"colorbar\":{\"outlinewidth\":0,\"ticks\":\"\"},\"colorscale\":[[0.0,\"#0d0887\"],[0.1111111111111111,\"#46039f\"],[0.2222222222222222,\"#7201a8\"],[0.3333333333333333,\"#9c179e\"],[0.4444444444444444,\"#bd3786\"],[0.5555555555555556,\"#d8576b\"],[0.6666666666666666,\"#ed7953\"],[0.7777777777777778,\"#fb9f3a\"],[0.8888888888888888,\"#fdca26\"],[1.0,\"#f0f921\"]]}],\"mesh3d\":[{\"type\":\"mesh3d\",\"colorbar\":{\"outlinewidth\":0,\"ticks\":\"\"}}],\"scatter\":[{\"fillpattern\":{\"fillmode\":\"overlay\",\"size\":10,\"solidity\":0.2},\"type\":\"scatter\"}],\"parcoords\":[{\"type\":\"parcoords\",\"line\":{\"colorbar\":{\"outlinewidth\":0,\"ticks\":\"\"}}}],\"scatterpolargl\":[{\"type\":\"scatterpolargl\",\"marker\":{\"colorbar\":{\"outlinewidth\":0,\"ticks\":\"\"}}}],\"bar\":[{\"error_x\":{\"color\":\"#2a3f5f\"},\"error_y\":{\"color\":\"#2a3f5f\"},\"marker\":{\"line\":{\"color\":\"#E5ECF6\",\"width\":0.5},\"pattern\":{\"fillmode\":\"overlay\",\"size\":10,\"solidity\":0.2}},\"type\":\"bar\"}],\"scattergeo\":[{\"type\":\"scattergeo\",\"marker\":{\"colorbar\":{\"outlinewidth\":0,\"ticks\":\"\"}}}],\"scatterpolar\":[{\"type\":\"scatterpolar\",\"marker\":{\"colorbar\":{\"outlinewidth\":0,\"ticks\":\"\"}}}],\"histogram\":[{\"marker\":{\"pattern\":{\"fillmode\":\"overlay\",\"size\":10,\"solidity\":0.2}},\"type\":\"histogram\"}],\"scattergl\":[{\"type\":\"scattergl\",\"marker\":{\"colorbar\":{\"outlinewidth\":0,\"ticks\":\"\"}}}],\"scatter3d\":[{\"type\":\"scatter3d\",\"line\":{\"colorbar\":{\"outlinewidth\":0,\"ticks\":\"\"}},\"marker\":{\"colorbar\":{\"outlinewidth\":0,\"ticks\":\"\"}}}],\"scattermapbox\":[{\"type\":\"scattermapbox\",\"marker\":{\"colorbar\":{\"outlinewidth\":0,\"ticks\":\"\"}}}],\"scatterternary\":[{\"type\":\"scatterternary\",\"marker\":{\"colorbar\":{\"outlinewidth\":0,\"ticks\":\"\"}}}],\"scattercarpet\":[{\"type\":\"scattercarpet\",\"marker\":{\"colorbar\":{\"outlinewidth\":0,\"ticks\":\"\"}}}],\"carpet\":[{\"aaxis\":{\"endlinecolor\":\"#2a3f5f\",\"gridcolor\":\"white\",\"linecolor\":\"white\",\"minorgridcolor\":\"white\",\"startlinecolor\":\"#2a3f5f\"},\"baxis\":{\"endlinecolor\":\"#2a3f5f\",\"gridcolor\":\"white\",\"linecolor\":\"white\",\"minorgridcolor\":\"white\",\"startlinecolor\":\"#2a3f5f\"},\"type\":\"carpet\"}],\"table\":[{\"cells\":{\"fill\":{\"color\":\"#EBF0F8\"},\"line\":{\"color\":\"white\"}},\"header\":{\"fill\":{\"color\":\"#C8D4E3\"},\"line\":{\"color\":\"white\"}},\"type\":\"table\"}],\"barpolar\":[{\"marker\":{\"line\":{\"color\":\"#E5ECF6\",\"width\":0.5},\"pattern\":{\"fillmode\":\"overlay\",\"size\":10,\"solidity\":0.2}},\"type\":\"barpolar\"}],\"pie\":[{\"automargin\":true,\"type\":\"pie\"}]},\"layout\":{\"autotypenumbers\":\"strict\",\"colorway\":[\"#636efa\",\"#EF553B\",\"#00cc96\",\"#ab63fa\",\"#FFA15A\",\"#19d3f3\",\"#FF6692\",\"#B6E880\",\"#FF97FF\",\"#FECB52\"],\"font\":{\"color\":\"#2a3f5f\"},\"hovermode\":\"closest\",\"hoverlabel\":{\"align\":\"left\"},\"paper_bgcolor\":\"white\",\"plot_bgcolor\":\"#E5ECF6\",\"polar\":{\"bgcolor\":\"#E5ECF6\",\"angularaxis\":{\"gridcolor\":\"white\",\"linecolor\":\"white\",\"ticks\":\"\"},\"radialaxis\":{\"gridcolor\":\"white\",\"linecolor\":\"white\",\"ticks\":\"\"}},\"ternary\":{\"bgcolor\":\"#E5ECF6\",\"aaxis\":{\"gridcolor\":\"white\",\"linecolor\":\"white\",\"ticks\":\"\"},\"baxis\":{\"gridcolor\":\"white\",\"linecolor\":\"white\",\"ticks\":\"\"},\"caxis\":{\"gridcolor\":\"white\",\"linecolor\":\"white\",\"ticks\":\"\"}},\"coloraxis\":{\"colorbar\":{\"outlinewidth\":0,\"ticks\":\"\"}},\"colorscale\":{\"sequential\":[[0.0,\"#0d0887\"],[0.1111111111111111,\"#46039f\"],[0.2222222222222222,\"#7201a8\"],[0.3333333333333333,\"#9c179e\"],[0.4444444444444444,\"#bd3786\"],[0.5555555555555556,\"#d8576b\"],[0.6666666666666666,\"#ed7953\"],[0.7777777777777778,\"#fb9f3a\"],[0.8888888888888888,\"#fdca26\"],[1.0,\"#f0f921\"]],\"sequentialminus\":[[0.0,\"#0d0887\"],[0.1111111111111111,\"#46039f\"],[0.2222222222222222,\"#7201a8\"],[0.3333333333333333,\"#9c179e\"],[0.4444444444444444,\"#bd3786\"],[0.5555555555555556,\"#d8576b\"],[0.6666666666666666,\"#ed7953\"],[0.7777777777777778,\"#fb9f3a\"],[0.8888888888888888,\"#fdca26\"],[1.0,\"#f0f921\"]],\"diverging\":[[0,\"#8e0152\"],[0.1,\"#c51b7d\"],[0.2,\"#de77ae\"],[0.3,\"#f1b6da\"],[0.4,\"#fde0ef\"],[0.5,\"#f7f7f7\"],[0.6,\"#e6f5d0\"],[0.7,\"#b8e186\"],[0.8,\"#7fbc41\"],[0.9,\"#4d9221\"],[1,\"#276419\"]]},\"xaxis\":{\"gridcolor\":\"white\",\"linecolor\":\"white\",\"ticks\":\"\",\"title\":{\"standoff\":15},\"zerolinecolor\":\"white\",\"automargin\":true,\"zerolinewidth\":2},\"yaxis\":{\"gridcolor\":\"white\",\"linecolor\":\"white\",\"ticks\":\"\",\"title\":{\"standoff\":15},\"zerolinecolor\":\"white\",\"automargin\":true,\"zerolinewidth\":2},\"scene\":{\"xaxis\":{\"backgroundcolor\":\"#E5ECF6\",\"gridcolor\":\"white\",\"linecolor\":\"white\",\"showbackground\":true,\"ticks\":\"\",\"zerolinecolor\":\"white\",\"gridwidth\":2},\"yaxis\":{\"backgroundcolor\":\"#E5ECF6\",\"gridcolor\":\"white\",\"linecolor\":\"white\",\"showbackground\":true,\"ticks\":\"\",\"zerolinecolor\":\"white\",\"gridwidth\":2},\"zaxis\":{\"backgroundcolor\":\"#E5ECF6\",\"gridcolor\":\"white\",\"linecolor\":\"white\",\"showbackground\":true,\"ticks\":\"\",\"zerolinecolor\":\"white\",\"gridwidth\":2}},\"shapedefaults\":{\"line\":{\"color\":\"#2a3f5f\"}},\"annotationdefaults\":{\"arrowcolor\":\"#2a3f5f\",\"arrowhead\":0,\"arrowwidth\":1},\"geo\":{\"bgcolor\":\"white\",\"landcolor\":\"#E5ECF6\",\"subunitcolor\":\"white\",\"showland\":true,\"showlakes\":true,\"lakecolor\":\"white\"},\"title\":{\"x\":0.05},\"mapbox\":{\"style\":\"light\"}}},\"xaxis\":{\"anchor\":\"y\",\"domain\":[0.0,1.0],\"title\":{\"text\":\"tip\"}},\"yaxis\":{\"anchor\":\"x\",\"domain\":[0.0,1.0],\"title\":{\"text\":\"total_bill\"}},\"legend\":{\"title\":{\"text\":\"sex\"},\"tracegroupgap\":0},\"title\":{\"text\":\"Зависимость чаевых от суммы счета\"}},                        {\"responsive\": true}                    ).then(function(){\n",
       "                            \n",
       "var gd = document.getElementById('2f3a4887-aab8-4a40-b0b3-c80f62a2ab3c');\n",
       "var x = new MutationObserver(function (mutations, observer) {{\n",
       "        var display = window.getComputedStyle(gd).display;\n",
       "        if (!display || display === 'none') {{\n",
       "            console.log([gd, 'removed!']);\n",
       "            Plotly.purge(gd);\n",
       "            observer.disconnect();\n",
       "        }}\n",
       "}});\n",
       "\n",
       "// Listen for the removal of the full notebook cells\n",
       "var notebookContainer = gd.closest('#notebook-container');\n",
       "if (notebookContainer) {{\n",
       "    x.observe(notebookContainer, {childList: true});\n",
       "}}\n",
       "\n",
       "// Listen for the clearing of the current output cell\n",
       "var outputEl = gd.closest('.output');\n",
       "if (outputEl) {{\n",
       "    x.observe(outputEl, {childList: true});\n",
       "}}\n",
       "\n",
       "                        })                };                            </script>        </div>\n",
       "</body>\n",
       "</html>"
      ]
     },
     "metadata": {},
     "output_type": "display_data"
    },
    {
     "data": {
      "text/html": [
       "\n",
       "            <div style=\"\n",
       "                background-color:#f8d7da;\n",
       "                color:#721c24;\n",
       "                border:1px solid #f5c6cb;\n",
       "                border-radius:8px;\n",
       "                padding:12px 16px;\n",
       "                font-family:Arial;\n",
       "                font-size:16px;\n",
       "                font-weight:bold;\">\n",
       "                ❌ Ошибка: Расположите `total_bill` на оси X\n",
       "\n",
       "            </div>\n",
       "            "
      ],
      "text/plain": [
       "<IPython.core.display.HTML object>"
      ]
     },
     "execution_count": 11,
     "metadata": {},
     "output_type": "execute_result"
    }
   ],
   "source": [
    "%%run --module 3 --task 2 --plot\n",
    "\n",
    "import seaborn as sns\n",
    "import matplotlib.pyplot as plt\n",
    "import plotly.express as px\n",
    "import pandas as pd\n",
    "import numpy as np\n",
    "\n",
    "url = \"https://raw.githubusercontent.com/mwaskom/seaborn-data/master/tips.csv\"\n",
    "df = pd.read_csv(url)\n",
    "\n",
    "fig = px.scatter(df\n",
    "                , x=\"tip\"\n",
    "                , y=\"total_bill\"\n",
    "                , color=\"sex\"\n",
    "                , title=\"Зависимость чаевых от суммы счета\"\n",
    "                )\n",
    "fig.show()"
   ]
  },
  {
   "cell_type": "markdown",
   "id": "446e4d29-6758-4565-b701-edb55914838e",
   "metadata": {
    "id": "446e4d29-6758-4565-b701-edb55914838e"
   },
   "source": [
    "### Задание 3 API\n",
    "\n",
    "У пользователя `cu_labs` есть список книг, который он хотел бы прочитать. Обратитесь к API, чтобы узнать какие книги оказались в списке.\n",
    "\n",
    "Эндпоинт для обращение к API: /people/cu_labs/lists/OL300035L/seeds.json\n",
    "\n",
    "Сохраните ответ от API в переменной `response`\n",
    "\n",
    "> task_3.yaml\n",
    "\n",
    "```yaml\n",
    "checks:\n",
    "  - type: call\n",
    "    expected:\n",
    "      func: \"get\"\n",
    "      args:\n",
    "        - \"base_url + endpoint\"\n",
    "  # Проверяем значение переменной\n",
    "  - type: var\n",
    "    expected:\n",
    "      var: \"endpoint\"\n",
    "      value: \"/people/cu_labs/lists/OL300035L/seeds.json\"\n",
    "```"
   ]
  },
  {
   "cell_type": "code",
   "execution_count": null,
   "id": "ec655491-ff7c-4e95-be95-4e1680444fd8",
   "metadata": {
    "colab": {
     "base_uri": "https://localhost:8080/",
     "height": 99
    },
    "id": "ec655491-ff7c-4e95-be95-4e1680444fd8",
    "outputId": "b9de0680-3e8f-4f79-d31f-664e45a63dde"
   },
   "outputs": [
    {
     "name": "stdout",
     "output_type": "stream",
     "text": [
      "Namespace(module=3, task=3, plot=True, pyrunner='https://bba47b33i5vu3vho4n34.containers.yandexcloud.net/run')\n",
      "{'error': 'notfound', 'key': '/people/cu_labs/lists/seeds'}\n"
     ]
    },
    {
     "data": {
      "text/html": [
       "\n",
       "            <div style=\"\n",
       "                background-color:#f8d7da;\n",
       "                color:#721c24;\n",
       "                border:1px solid #f5c6cb;\n",
       "                border-radius:8px;\n",
       "                padding:12px 16px;\n",
       "                font-family:Arial;\n",
       "                font-size:16px;\n",
       "                font-weight:bold;\">\n",
       "                ❌ Ошибка: Переменной `endpoint` было переписвоено значение /people/cu_labs/lists/seeds.json, ожидалось /people/cu_labs/lists/OL300035L/seeds.json\n",
       "            </div>\n",
       "            "
      ],
      "text/plain": [
       "<IPython.core.display.HTML object>"
      ]
     },
     "execution_count": 7,
     "metadata": {},
     "output_type": "execute_result"
    }
   ],
   "source": [
    "%%run --module=3 --task=3 --plot\n",
    "\n",
    "import requests\n",
    "\n",
    "base_url = 'https://openlibrary.org'\n",
    "endpoint = '/people/cu_labs/lists/seeds.json'\n",
    "\n",
    "response = requests.get(base_url + endpoint)\n",
    "print(response.json())"
   ]
  },
  {
   "cell_type": "code",
   "execution_count": null,
   "id": "68f2ee9c-ee52-46bf-8fd9-ab67846a9e6a",
   "metadata": {
    "id": "68f2ee9c-ee52-46bf-8fd9-ab67846a9e6a"
   },
   "outputs": [],
   "source": []
  }
 ],
 "metadata": {
  "colab": {
   "collapsed_sections": [
    "4dc837e7-ee39-4f1e-be4f-a82e44109b4b",
    "cb88c71b-c251-4f8e-a5b4-f40992af4062",
    "40cac1c5-c095-4de8-87ab-00a94d713161",
    "0a5049a8-a1f3-4f1e-b619-93b4c6c65bb9",
    "8e602c41-4e8f-414c-8d8d-b1d35d577b31"
   ],
   "provenance": [],
   "toc_visible": true
  },
  "kernelspec": {
   "display_name": "Python 3 (ipykernel)",
   "language": "python",
   "name": "python3"
  },
  "language_info": {
   "codemirror_mode": {
    "name": "ipython",
    "version": 3
   },
   "file_extension": ".py",
   "mimetype": "text/x-python",
   "name": "python",
   "nbconvert_exporter": "python",
   "pygments_lexer": "ipython3",
   "version": "3.13.7"
  }
 },
 "nbformat": 4,
 "nbformat_minor": 5
}
